{
  "metadata": {
    "kernelspec": {
      "language": "python",
      "display_name": "Python 3",
      "name": "python3"
    },
    "language_info": {
      "pygments_lexer": "ipython3",
      "nbconvert_exporter": "python",
      "version": "3.6.4",
      "file_extension": ".py",
      "codemirror_mode": {
        "name": "ipython",
        "version": 3
      },
      "name": "python",
      "mimetype": "text/x-python"
    },
    "colab": {
      "provenance": [],
      "include_colab_link": true
    }
  },
  "nbformat_minor": 0,
  "nbformat": 4,
  "cells": [
    {
      "cell_type": "markdown",
      "metadata": {
        "id": "view-in-github",
        "colab_type": "text"
      },
      "source": [
        "<a href=\"https://colab.research.google.com/github/YTW0415/Kaggle_Basketball/blob/data_proprecessing/Kaggle_basket_20230301.ipynb\" target=\"_parent\"><img src=\"https://colab.research.google.com/assets/colab-badge.svg\" alt=\"Open In Colab\"/></a>"
      ]
    },
    {
      "cell_type": "code",
      "source": [
        "!git clone https://github.com/YTW0415/Kaggle_Basketball.git"
      ],
      "metadata": {
        "colab": {
          "base_uri": "https://localhost:8080/"
        },
        "id": "R5vnL0FB_LNa",
        "outputId": "4200017f-5eb6-4e7c-baec-5d923b5e53b7"
      },
      "execution_count": 1,
      "outputs": [
        {
          "output_type": "stream",
          "name": "stdout",
          "text": [
            "Cloning into 'Kaggle_Basketball'...\n",
            "remote: Enumerating objects: 50, done.\u001b[K\n",
            "remote: Counting objects: 100% (50/50), done.\u001b[K\n",
            "remote: Compressing objects: 100% (47/47), done.\u001b[K\n",
            "remote: Total 50 (delta 4), reused 33 (delta 1), pack-reused 0\u001b[K\n",
            "Unpacking objects: 100% (50/50), 28.00 MiB | 3.32 MiB/s, done.\n"
          ]
        }
      ]
    },
    {
      "cell_type": "markdown",
      "source": [
        "# Adapting the 2nd Place Solution of the 2021 NCAAW Competition\n",
        "\n",
        "- Solution write-up is available here : https://www.kaggle.com/c/ncaaw-march-mania-2021/discussion/230705\n",
        "- 2nd place code : https://www.kaggle.com/theoviel/2nd-place-ncaaw-2021?scriptVersionId=58780991\n",
        "- It was adapted from this notebook : https://www.kaggle.com/theoviel/ncaa-starter-the-simpler-the-better \n",
        "\n",
        "**Changes :**\n",
        "- Build one model for both Men and Women\n",
        "- Update metric to MSE"
      ],
      "metadata": {
        "papermill": {
          "duration": 0.078932,
          "end_time": "2022-02-25T19:24:43.22369",
          "exception": false,
          "start_time": "2022-02-25T19:24:43.144758",
          "status": "completed"
        },
        "tags": [],
        "id": "jHYPxeRy9wWJ"
      }
    },
    {
      "cell_type": "code",
      "source": [
        "import os\n",
        "import re\n",
        "import sklearn\n",
        "import numpy as np \n",
        "import pandas as pd\n",
        "import seaborn as sns\n",
        "import matplotlib.pyplot as plt\n",
        "\n",
        "from collections import Counter\n",
        "from sklearn.metrics import *\n",
        "from sklearn.linear_model import *\n",
        "from sklearn.model_selection import *\n",
        "\n",
        "pd.set_option('display.max_columns', None)"
      ],
      "metadata": {
        "_cell_guid": "b1076dfc-b9ad-4769-8c92-a6c4dae69d19",
        "_uuid": "8f2839f25d086af736a60e9eeb907d3b93b6e0e5",
        "papermill": {
          "duration": 1.277111,
          "end_time": "2022-02-25T19:24:44.575737",
          "exception": false,
          "start_time": "2022-02-25T19:24:43.298626",
          "status": "completed"
        },
        "tags": [],
        "execution": {
          "iopub.status.busy": "2023-02-16T13:37:17.686131Z",
          "iopub.execute_input": "2023-02-16T13:37:17.686611Z",
          "iopub.status.idle": "2023-02-16T13:37:17.694624Z",
          "shell.execute_reply.started": "2023-02-16T13:37:17.686573Z",
          "shell.execute_reply": "2023-02-16T13:37:17.693097Z"
        },
        "trusted": true,
        "id": "hW_aPYJo9wWS"
      },
      "execution_count": 2,
      "outputs": []
    },
    {
      "cell_type": "code",
      "source": [
        "DATA_PATH = '/content/Kaggle_Basketball/march-machine-learning-mania-2023/'\n",
        "\n",
        "for filename in sorted(os.listdir(DATA_PATH)):\n",
        "    print(filename)"
      ],
      "metadata": {
        "papermill": {
          "duration": 0.090265,
          "end_time": "2022-02-25T19:24:44.740927",
          "exception": false,
          "start_time": "2022-02-25T19:24:44.650662",
          "status": "completed"
        },
        "tags": [],
        "execution": {
          "iopub.status.busy": "2023-02-16T13:37:17.69714Z",
          "iopub.execute_input": "2023-02-16T13:37:17.697585Z",
          "iopub.status.idle": "2023-02-16T13:37:17.711856Z",
          "shell.execute_reply.started": "2023-02-16T13:37:17.697545Z",
          "shell.execute_reply": "2023-02-16T13:37:17.710184Z"
        },
        "trusted": true,
        "colab": {
          "base_uri": "https://localhost:8080/"
        },
        "id": "7Es_8IcA9wWU",
        "outputId": "5523eaf5-06ef-447d-a5bc-4742fb3e24ac"
      },
      "execution_count": 4,
      "outputs": [
        {
          "output_type": "stream",
          "name": "stdout",
          "text": [
            "Cities.csv\n",
            "Conferences.csv\n",
            "MConferenceTourneyGames.csv\n",
            "MGameCities.csv\n",
            "MMasseyOrdinals.csv\n",
            "MNCAATourneyCompactResults.csv\n",
            "MNCAATourneyDetailedResults.csv\n",
            "MNCAATourneySeedRoundSlots.csv\n",
            "MNCAATourneySeeds.csv\n",
            "MNCAATourneySlots.csv\n",
            "MRegularSeasonCompactResults.csv\n",
            "MRegularSeasonDetailedResults.csv\n",
            "MSeasons.csv\n",
            "MSecondaryTourneyCompactResults.csv\n",
            "MSecondaryTourneyTeams.csv\n",
            "MTeamCoaches.csv\n",
            "MTeamConferences.csv\n",
            "MTeamSpellings.csv\n",
            "MTeams.csv\n",
            "SampleSubmission2023.csv\n",
            "WGameCities.csv\n",
            "WNCAATourneyCompactResults.csv\n",
            "WNCAATourneyDetailedResults.csv\n",
            "WNCAATourneySeeds.csv\n",
            "WNCAATourneySlots.csv\n",
            "WRegularSeasonCompactResults.csv\n",
            "WRegularSeasonDetailedResults.csv\n",
            "WSeasons.csv\n",
            "WTeamConferences.csv\n",
            "WTeamSpellings.csv\n",
            "WTeams.csv\n"
          ]
        }
      ]
    },
    {
      "cell_type": "markdown",
      "source": [
        "# Data preparation"
      ],
      "metadata": {
        "papermill": {
          "duration": 0.073341,
          "end_time": "2022-02-25T19:24:44.888269",
          "exception": false,
          "start_time": "2022-02-25T19:24:44.814928",
          "status": "completed"
        },
        "tags": [],
        "id": "_ybFu4xT9wWV"
      }
    },
    {
      "cell_type": "markdown",
      "source": [
        "## Seeds\n",
        "> This file identifies the seeds for all teams in each NCAA® tournament, for all seasons of historical data. Thus, there are between 64-68 rows for each year, depending on whether there were any play-in games and how many there were. In recent years the structure has settled at 68 total teams, with four \"play-in\" games leading to the final field of 64 teams entering Round 1 on Thursday of the first week (by definition, that is DayNum=136 each season). We will not know the seeds of the respective tournament teams, or even exactly which 68 teams it will be, until Selection Sunday on March 15, 2020 (DayNum=132).\n",
        "\n",
        "> The seed is a 3/4-character :\n",
        "- First character : Region (W, X, Y, or Z)\n",
        "- Next two digits : Seed within the region (01 to 16)\n",
        "- Last character (optional): Distinguishes teams between play-ins ( a or b)"
      ],
      "metadata": {
        "papermill": {
          "duration": 0.074768,
          "end_time": "2022-02-25T19:24:45.038561",
          "exception": false,
          "start_time": "2022-02-25T19:24:44.963793",
          "status": "completed"
        },
        "tags": [],
        "id": "QeinpkfM9wWV"
      }
    },
    {
      "cell_type": "code",
      "source": [
        "df_seeds = pd.concat([\n",
        "    pd.read_csv(DATA_PATH + \"MNCAATourneySeeds.csv\"),\n",
        "    pd.read_csv(DATA_PATH + \"WNCAATourneySeeds.csv\"),\n",
        "], ignore_index=True)\n",
        "    \n",
        "df_seeds.head()"
      ],
      "metadata": {
        "papermill": {
          "duration": 0.104892,
          "end_time": "2022-02-25T19:24:45.217994",
          "exception": false,
          "start_time": "2022-02-25T19:24:45.113102",
          "status": "completed"
        },
        "tags": [],
        "execution": {
          "iopub.status.busy": "2023-02-16T13:37:17.713696Z",
          "iopub.execute_input": "2023-02-16T13:37:17.714267Z",
          "iopub.status.idle": "2023-02-16T13:37:17.739752Z",
          "shell.execute_reply.started": "2023-02-16T13:37:17.714212Z",
          "shell.execute_reply": "2023-02-16T13:37:17.738489Z"
        },
        "trusted": true,
        "colab": {
          "base_uri": "https://localhost:8080/",
          "height": 206
        },
        "id": "wv4EcK0y9wWW",
        "outputId": "811b4cff-6b2d-49d8-8c21-d0d1cd57af6e"
      },
      "execution_count": 5,
      "outputs": [
        {
          "output_type": "execute_result",
          "data": {
            "text/plain": [
              "   Season Seed  TeamID\n",
              "0    1985  W01    1207\n",
              "1    1985  W02    1210\n",
              "2    1985  W03    1228\n",
              "3    1985  W04    1260\n",
              "4    1985  W05    1374"
            ],
            "text/html": [
              "\n",
              "  <div id=\"df-e4c74a9f-6575-427e-82ce-451ec8c8540a\">\n",
              "    <div class=\"colab-df-container\">\n",
              "      <div>\n",
              "<style scoped>\n",
              "    .dataframe tbody tr th:only-of-type {\n",
              "        vertical-align: middle;\n",
              "    }\n",
              "\n",
              "    .dataframe tbody tr th {\n",
              "        vertical-align: top;\n",
              "    }\n",
              "\n",
              "    .dataframe thead th {\n",
              "        text-align: right;\n",
              "    }\n",
              "</style>\n",
              "<table border=\"1\" class=\"dataframe\">\n",
              "  <thead>\n",
              "    <tr style=\"text-align: right;\">\n",
              "      <th></th>\n",
              "      <th>Season</th>\n",
              "      <th>Seed</th>\n",
              "      <th>TeamID</th>\n",
              "    </tr>\n",
              "  </thead>\n",
              "  <tbody>\n",
              "    <tr>\n",
              "      <th>0</th>\n",
              "      <td>1985</td>\n",
              "      <td>W01</td>\n",
              "      <td>1207</td>\n",
              "    </tr>\n",
              "    <tr>\n",
              "      <th>1</th>\n",
              "      <td>1985</td>\n",
              "      <td>W02</td>\n",
              "      <td>1210</td>\n",
              "    </tr>\n",
              "    <tr>\n",
              "      <th>2</th>\n",
              "      <td>1985</td>\n",
              "      <td>W03</td>\n",
              "      <td>1228</td>\n",
              "    </tr>\n",
              "    <tr>\n",
              "      <th>3</th>\n",
              "      <td>1985</td>\n",
              "      <td>W04</td>\n",
              "      <td>1260</td>\n",
              "    </tr>\n",
              "    <tr>\n",
              "      <th>4</th>\n",
              "      <td>1985</td>\n",
              "      <td>W05</td>\n",
              "      <td>1374</td>\n",
              "    </tr>\n",
              "  </tbody>\n",
              "</table>\n",
              "</div>\n",
              "      <button class=\"colab-df-convert\" onclick=\"convertToInteractive('df-e4c74a9f-6575-427e-82ce-451ec8c8540a')\"\n",
              "              title=\"Convert this dataframe to an interactive table.\"\n",
              "              style=\"display:none;\">\n",
              "        \n",
              "  <svg xmlns=\"http://www.w3.org/2000/svg\" height=\"24px\"viewBox=\"0 0 24 24\"\n",
              "       width=\"24px\">\n",
              "    <path d=\"M0 0h24v24H0V0z\" fill=\"none\"/>\n",
              "    <path d=\"M18.56 5.44l.94 2.06.94-2.06 2.06-.94-2.06-.94-.94-2.06-.94 2.06-2.06.94zm-11 1L8.5 8.5l.94-2.06 2.06-.94-2.06-.94L8.5 2.5l-.94 2.06-2.06.94zm10 10l.94 2.06.94-2.06 2.06-.94-2.06-.94-.94-2.06-.94 2.06-2.06.94z\"/><path d=\"M17.41 7.96l-1.37-1.37c-.4-.4-.92-.59-1.43-.59-.52 0-1.04.2-1.43.59L10.3 9.45l-7.72 7.72c-.78.78-.78 2.05 0 2.83L4 21.41c.39.39.9.59 1.41.59.51 0 1.02-.2 1.41-.59l7.78-7.78 2.81-2.81c.8-.78.8-2.07 0-2.86zM5.41 20L4 18.59l7.72-7.72 1.47 1.35L5.41 20z\"/>\n",
              "  </svg>\n",
              "      </button>\n",
              "      \n",
              "  <style>\n",
              "    .colab-df-container {\n",
              "      display:flex;\n",
              "      flex-wrap:wrap;\n",
              "      gap: 12px;\n",
              "    }\n",
              "\n",
              "    .colab-df-convert {\n",
              "      background-color: #E8F0FE;\n",
              "      border: none;\n",
              "      border-radius: 50%;\n",
              "      cursor: pointer;\n",
              "      display: none;\n",
              "      fill: #1967D2;\n",
              "      height: 32px;\n",
              "      padding: 0 0 0 0;\n",
              "      width: 32px;\n",
              "    }\n",
              "\n",
              "    .colab-df-convert:hover {\n",
              "      background-color: #E2EBFA;\n",
              "      box-shadow: 0px 1px 2px rgba(60, 64, 67, 0.3), 0px 1px 3px 1px rgba(60, 64, 67, 0.15);\n",
              "      fill: #174EA6;\n",
              "    }\n",
              "\n",
              "    [theme=dark] .colab-df-convert {\n",
              "      background-color: #3B4455;\n",
              "      fill: #D2E3FC;\n",
              "    }\n",
              "\n",
              "    [theme=dark] .colab-df-convert:hover {\n",
              "      background-color: #434B5C;\n",
              "      box-shadow: 0px 1px 3px 1px rgba(0, 0, 0, 0.15);\n",
              "      filter: drop-shadow(0px 1px 2px rgba(0, 0, 0, 0.3));\n",
              "      fill: #FFFFFF;\n",
              "    }\n",
              "  </style>\n",
              "\n",
              "      <script>\n",
              "        const buttonEl =\n",
              "          document.querySelector('#df-e4c74a9f-6575-427e-82ce-451ec8c8540a button.colab-df-convert');\n",
              "        buttonEl.style.display =\n",
              "          google.colab.kernel.accessAllowed ? 'block' : 'none';\n",
              "\n",
              "        async function convertToInteractive(key) {\n",
              "          const element = document.querySelector('#df-e4c74a9f-6575-427e-82ce-451ec8c8540a');\n",
              "          const dataTable =\n",
              "            await google.colab.kernel.invokeFunction('convertToInteractive',\n",
              "                                                     [key], {});\n",
              "          if (!dataTable) return;\n",
              "\n",
              "          const docLinkHtml = 'Like what you see? Visit the ' +\n",
              "            '<a target=\"_blank\" href=https://colab.research.google.com/notebooks/data_table.ipynb>data table notebook</a>'\n",
              "            + ' to learn more about interactive tables.';\n",
              "          element.innerHTML = '';\n",
              "          dataTable['output_type'] = 'display_data';\n",
              "          await google.colab.output.renderOutput(dataTable, element);\n",
              "          const docLink = document.createElement('div');\n",
              "          docLink.innerHTML = docLinkHtml;\n",
              "          element.appendChild(docLink);\n",
              "        }\n",
              "      </script>\n",
              "    </div>\n",
              "  </div>\n",
              "  "
            ]
          },
          "metadata": {},
          "execution_count": 5
        }
      ]
    },
    {
      "cell_type": "markdown",
      "source": [
        "## Season results\n",
        "> This file identifies the game-by-game results for many seasons of historical data, starting with the 1985 season (the first year the NCAA® had a 64-team tournament). For each season, the file includes all games played from DayNum 0 through 132. It is important to realize that the \"Regular Season\" games are simply defined to be all games played on DayNum=132 or earlier (DayNum=132 is Selection Sunday, and there are always a few conference tournament finals actually played early in the day on Selection Sunday itself). Thus a game played on or before Selection Sunday will show up here whether it was a pre-season tournament, a non-conference game, a regular conference game, a conference tournament game, or whatever."
      ],
      "metadata": {
        "papermill": {
          "duration": 0.077208,
          "end_time": "2022-02-25T19:24:45.370539",
          "exception": false,
          "start_time": "2022-02-25T19:24:45.293331",
          "status": "completed"
        },
        "tags": [],
        "id": "Gju68pnV9wWX"
      }
    },
    {
      "cell_type": "code",
      "source": [
        "df_season_results = pd.concat([\n",
        "    pd.read_csv(DATA_PATH + \"MRegularSeasonCompactResults.csv\"),\n",
        "    pd.read_csv(DATA_PATH + \"WRegularSeasonCompactResults.csv\"),\n",
        "], ignore_index=True)\n",
        "\n",
        "df_season_results.drop(['NumOT', 'WLoc'], axis=1, inplace=True)"
      ],
      "metadata": {
        "papermill": {
          "duration": 0.25674,
          "end_time": "2022-02-25T19:24:45.703808",
          "exception": false,
          "start_time": "2022-02-25T19:24:45.447068",
          "status": "completed"
        },
        "tags": [],
        "execution": {
          "iopub.status.busy": "2023-02-16T13:37:17.742561Z",
          "iopub.execute_input": "2023-02-16T13:37:17.742975Z",
          "iopub.status.idle": "2023-02-16T13:37:17.945803Z",
          "shell.execute_reply.started": "2023-02-16T13:37:17.742938Z",
          "shell.execute_reply": "2023-02-16T13:37:17.94468Z"
        },
        "trusted": true,
        "id": "r8p4vB9-9wWY"
      },
      "execution_count": 6,
      "outputs": []
    },
    {
      "cell_type": "code",
      "source": [
        "df_season_results['ScoreGap'] = df_season_results['WScore'] - df_season_results['LScore']"
      ],
      "metadata": {
        "papermill": {
          "duration": 0.087908,
          "end_time": "2022-02-25T19:24:45.867516",
          "exception": false,
          "start_time": "2022-02-25T19:24:45.779608",
          "status": "completed"
        },
        "tags": [],
        "execution": {
          "iopub.status.busy": "2023-02-16T13:37:17.947563Z",
          "iopub.execute_input": "2023-02-16T13:37:17.949999Z",
          "iopub.status.idle": "2023-02-16T13:37:17.960388Z",
          "shell.execute_reply.started": "2023-02-16T13:37:17.949915Z",
          "shell.execute_reply": "2023-02-16T13:37:17.958953Z"
        },
        "trusted": true,
        "id": "QoeLmx8r9wWZ"
      },
      "execution_count": 7,
      "outputs": []
    },
    {
      "cell_type": "code",
      "source": [
        "df_season_results.head()"
      ],
      "metadata": {
        "papermill": {
          "duration": 0.08798,
          "end_time": "2022-02-25T19:24:46.029839",
          "exception": false,
          "start_time": "2022-02-25T19:24:45.941859",
          "status": "completed"
        },
        "tags": [],
        "execution": {
          "iopub.status.busy": "2023-02-16T13:37:17.962735Z",
          "iopub.execute_input": "2023-02-16T13:37:17.963531Z",
          "iopub.status.idle": "2023-02-16T13:37:17.978549Z",
          "shell.execute_reply.started": "2023-02-16T13:37:17.963473Z",
          "shell.execute_reply": "2023-02-16T13:37:17.977126Z"
        },
        "trusted": true,
        "colab": {
          "base_uri": "https://localhost:8080/",
          "height": 206
        },
        "id": "4nHKVOeR9wWa",
        "outputId": "d149e4eb-7b91-4ebb-d61e-11fe6ffbcad1"
      },
      "execution_count": 8,
      "outputs": [
        {
          "output_type": "execute_result",
          "data": {
            "text/plain": [
              "   Season  DayNum  WTeamID  WScore  LTeamID  LScore  ScoreGap\n",
              "0    1985      20     1228      81     1328      64        17\n",
              "1    1985      25     1106      77     1354      70         7\n",
              "2    1985      25     1112      63     1223      56         7\n",
              "3    1985      25     1165      70     1432      54        16\n",
              "4    1985      25     1192      86     1447      74        12"
            ],
            "text/html": [
              "\n",
              "  <div id=\"df-2a4d8aaa-0851-4d0f-928a-8100be62c9c4\">\n",
              "    <div class=\"colab-df-container\">\n",
              "      <div>\n",
              "<style scoped>\n",
              "    .dataframe tbody tr th:only-of-type {\n",
              "        vertical-align: middle;\n",
              "    }\n",
              "\n",
              "    .dataframe tbody tr th {\n",
              "        vertical-align: top;\n",
              "    }\n",
              "\n",
              "    .dataframe thead th {\n",
              "        text-align: right;\n",
              "    }\n",
              "</style>\n",
              "<table border=\"1\" class=\"dataframe\">\n",
              "  <thead>\n",
              "    <tr style=\"text-align: right;\">\n",
              "      <th></th>\n",
              "      <th>Season</th>\n",
              "      <th>DayNum</th>\n",
              "      <th>WTeamID</th>\n",
              "      <th>WScore</th>\n",
              "      <th>LTeamID</th>\n",
              "      <th>LScore</th>\n",
              "      <th>ScoreGap</th>\n",
              "    </tr>\n",
              "  </thead>\n",
              "  <tbody>\n",
              "    <tr>\n",
              "      <th>0</th>\n",
              "      <td>1985</td>\n",
              "      <td>20</td>\n",
              "      <td>1228</td>\n",
              "      <td>81</td>\n",
              "      <td>1328</td>\n",
              "      <td>64</td>\n",
              "      <td>17</td>\n",
              "    </tr>\n",
              "    <tr>\n",
              "      <th>1</th>\n",
              "      <td>1985</td>\n",
              "      <td>25</td>\n",
              "      <td>1106</td>\n",
              "      <td>77</td>\n",
              "      <td>1354</td>\n",
              "      <td>70</td>\n",
              "      <td>7</td>\n",
              "    </tr>\n",
              "    <tr>\n",
              "      <th>2</th>\n",
              "      <td>1985</td>\n",
              "      <td>25</td>\n",
              "      <td>1112</td>\n",
              "      <td>63</td>\n",
              "      <td>1223</td>\n",
              "      <td>56</td>\n",
              "      <td>7</td>\n",
              "    </tr>\n",
              "    <tr>\n",
              "      <th>3</th>\n",
              "      <td>1985</td>\n",
              "      <td>25</td>\n",
              "      <td>1165</td>\n",
              "      <td>70</td>\n",
              "      <td>1432</td>\n",
              "      <td>54</td>\n",
              "      <td>16</td>\n",
              "    </tr>\n",
              "    <tr>\n",
              "      <th>4</th>\n",
              "      <td>1985</td>\n",
              "      <td>25</td>\n",
              "      <td>1192</td>\n",
              "      <td>86</td>\n",
              "      <td>1447</td>\n",
              "      <td>74</td>\n",
              "      <td>12</td>\n",
              "    </tr>\n",
              "  </tbody>\n",
              "</table>\n",
              "</div>\n",
              "      <button class=\"colab-df-convert\" onclick=\"convertToInteractive('df-2a4d8aaa-0851-4d0f-928a-8100be62c9c4')\"\n",
              "              title=\"Convert this dataframe to an interactive table.\"\n",
              "              style=\"display:none;\">\n",
              "        \n",
              "  <svg xmlns=\"http://www.w3.org/2000/svg\" height=\"24px\"viewBox=\"0 0 24 24\"\n",
              "       width=\"24px\">\n",
              "    <path d=\"M0 0h24v24H0V0z\" fill=\"none\"/>\n",
              "    <path d=\"M18.56 5.44l.94 2.06.94-2.06 2.06-.94-2.06-.94-.94-2.06-.94 2.06-2.06.94zm-11 1L8.5 8.5l.94-2.06 2.06-.94-2.06-.94L8.5 2.5l-.94 2.06-2.06.94zm10 10l.94 2.06.94-2.06 2.06-.94-2.06-.94-.94-2.06-.94 2.06-2.06.94z\"/><path d=\"M17.41 7.96l-1.37-1.37c-.4-.4-.92-.59-1.43-.59-.52 0-1.04.2-1.43.59L10.3 9.45l-7.72 7.72c-.78.78-.78 2.05 0 2.83L4 21.41c.39.39.9.59 1.41.59.51 0 1.02-.2 1.41-.59l7.78-7.78 2.81-2.81c.8-.78.8-2.07 0-2.86zM5.41 20L4 18.59l7.72-7.72 1.47 1.35L5.41 20z\"/>\n",
              "  </svg>\n",
              "      </button>\n",
              "      \n",
              "  <style>\n",
              "    .colab-df-container {\n",
              "      display:flex;\n",
              "      flex-wrap:wrap;\n",
              "      gap: 12px;\n",
              "    }\n",
              "\n",
              "    .colab-df-convert {\n",
              "      background-color: #E8F0FE;\n",
              "      border: none;\n",
              "      border-radius: 50%;\n",
              "      cursor: pointer;\n",
              "      display: none;\n",
              "      fill: #1967D2;\n",
              "      height: 32px;\n",
              "      padding: 0 0 0 0;\n",
              "      width: 32px;\n",
              "    }\n",
              "\n",
              "    .colab-df-convert:hover {\n",
              "      background-color: #E2EBFA;\n",
              "      box-shadow: 0px 1px 2px rgba(60, 64, 67, 0.3), 0px 1px 3px 1px rgba(60, 64, 67, 0.15);\n",
              "      fill: #174EA6;\n",
              "    }\n",
              "\n",
              "    [theme=dark] .colab-df-convert {\n",
              "      background-color: #3B4455;\n",
              "      fill: #D2E3FC;\n",
              "    }\n",
              "\n",
              "    [theme=dark] .colab-df-convert:hover {\n",
              "      background-color: #434B5C;\n",
              "      box-shadow: 0px 1px 3px 1px rgba(0, 0, 0, 0.15);\n",
              "      filter: drop-shadow(0px 1px 2px rgba(0, 0, 0, 0.3));\n",
              "      fill: #FFFFFF;\n",
              "    }\n",
              "  </style>\n",
              "\n",
              "      <script>\n",
              "        const buttonEl =\n",
              "          document.querySelector('#df-2a4d8aaa-0851-4d0f-928a-8100be62c9c4 button.colab-df-convert');\n",
              "        buttonEl.style.display =\n",
              "          google.colab.kernel.accessAllowed ? 'block' : 'none';\n",
              "\n",
              "        async function convertToInteractive(key) {\n",
              "          const element = document.querySelector('#df-2a4d8aaa-0851-4d0f-928a-8100be62c9c4');\n",
              "          const dataTable =\n",
              "            await google.colab.kernel.invokeFunction('convertToInteractive',\n",
              "                                                     [key], {});\n",
              "          if (!dataTable) return;\n",
              "\n",
              "          const docLinkHtml = 'Like what you see? Visit the ' +\n",
              "            '<a target=\"_blank\" href=https://colab.research.google.com/notebooks/data_table.ipynb>data table notebook</a>'\n",
              "            + ' to learn more about interactive tables.';\n",
              "          element.innerHTML = '';\n",
              "          dataTable['output_type'] = 'display_data';\n",
              "          await google.colab.output.renderOutput(dataTable, element);\n",
              "          const docLink = document.createElement('div');\n",
              "          docLink.innerHTML = docLinkHtml;\n",
              "          element.appendChild(docLink);\n",
              "        }\n",
              "      </script>\n",
              "    </div>\n",
              "  </div>\n",
              "  "
            ]
          },
          "metadata": {},
          "execution_count": 8
        }
      ]
    },
    {
      "cell_type": "markdown",
      "source": [
        "### Features \n",
        "For each team at each season, I compute : \n",
        "- Number of wins\n",
        "- Number of losses\n",
        "- Average score gap of wins\n",
        "- Average score gap of losses\n",
        "\n",
        "And use the following features : \n",
        "- Win Ratio\n",
        "- Average score gap"
      ],
      "metadata": {
        "papermill": {
          "duration": 0.07755,
          "end_time": "2022-02-25T19:24:46.185615",
          "exception": false,
          "start_time": "2022-02-25T19:24:46.108065",
          "status": "completed"
        },
        "tags": [],
        "id": "iVUTBycL9wWb"
      }
    },
    {
      "cell_type": "code",
      "source": [
        "num_win = df_season_results.groupby(['Season', 'WTeamID']).count()\n",
        "num_win = num_win.reset_index()[['Season', 'WTeamID', 'DayNum']].rename(columns={\"DayNum\": \"NumWins\", \"WTeamID\": \"TeamID\"})"
      ],
      "metadata": {
        "papermill": {
          "duration": 0.119523,
          "end_time": "2022-02-25T19:24:46.382846",
          "exception": false,
          "start_time": "2022-02-25T19:24:46.263323",
          "status": "completed"
        },
        "tags": [],
        "execution": {
          "iopub.status.busy": "2023-02-16T13:37:17.980579Z",
          "iopub.execute_input": "2023-02-16T13:37:17.981388Z",
          "iopub.status.idle": "2023-02-16T13:37:18.05946Z",
          "shell.execute_reply.started": "2023-02-16T13:37:17.981348Z",
          "shell.execute_reply": "2023-02-16T13:37:18.058404Z"
        },
        "trusted": true,
        "id": "0njWHrQ19wWb"
      },
      "execution_count": 9,
      "outputs": []
    },
    {
      "cell_type": "code",
      "source": [
        "num_loss = df_season_results.groupby(['Season', 'LTeamID']).count()\n",
        "num_loss = num_loss.reset_index()[['Season', 'LTeamID', 'DayNum']].rename(columns={\"DayNum\": \"NumLosses\", \"LTeamID\": \"TeamID\"})"
      ],
      "metadata": {
        "papermill": {
          "duration": 0.102402,
          "end_time": "2022-02-25T19:24:46.564033",
          "exception": false,
          "start_time": "2022-02-25T19:24:46.461631",
          "status": "completed"
        },
        "tags": [],
        "execution": {
          "iopub.status.busy": "2023-02-16T13:37:18.06088Z",
          "iopub.execute_input": "2023-02-16T13:37:18.061537Z",
          "iopub.status.idle": "2023-02-16T13:37:18.103963Z",
          "shell.execute_reply.started": "2023-02-16T13:37:18.061496Z",
          "shell.execute_reply": "2023-02-16T13:37:18.102924Z"
        },
        "trusted": true,
        "id": "CPZ4JF2T9wWb"
      },
      "execution_count": 10,
      "outputs": []
    },
    {
      "cell_type": "code",
      "source": [
        "gap_win = df_season_results.groupby(['Season', 'WTeamID']).mean().reset_index()\n",
        "gap_win = gap_win[['Season', 'WTeamID', 'ScoreGap']].rename(columns={\"ScoreGap\": \"GapWins\", \"WTeamID\": \"TeamID\"})"
      ],
      "metadata": {
        "papermill": {
          "duration": 0.10874,
          "end_time": "2022-02-25T19:24:46.749384",
          "exception": false,
          "start_time": "2022-02-25T19:24:46.640644",
          "status": "completed"
        },
        "tags": [],
        "execution": {
          "iopub.status.busy": "2023-02-16T13:37:18.130594Z",
          "iopub.execute_input": "2023-02-16T13:37:18.131283Z",
          "iopub.status.idle": "2023-02-16T13:37:18.175779Z",
          "shell.execute_reply.started": "2023-02-16T13:37:18.131237Z",
          "shell.execute_reply": "2023-02-16T13:37:18.174612Z"
        },
        "trusted": true,
        "id": "Fzbt9cFL9wWc"
      },
      "execution_count": 11,
      "outputs": []
    },
    {
      "cell_type": "code",
      "source": [
        "gap_loss = df_season_results.groupby(['Season', 'LTeamID']).mean().reset_index()\n",
        "gap_loss = gap_loss[['Season', 'LTeamID', 'ScoreGap']].rename(columns={\"ScoreGap\": \"GapLosses\", \"LTeamID\": \"TeamID\"})"
      ],
      "metadata": {
        "papermill": {
          "duration": 0.104447,
          "end_time": "2022-02-25T19:24:46.92935",
          "exception": false,
          "start_time": "2022-02-25T19:24:46.824903",
          "status": "completed"
        },
        "tags": [],
        "execution": {
          "iopub.status.busy": "2023-02-16T13:37:18.17729Z",
          "iopub.execute_input": "2023-02-16T13:37:18.177664Z",
          "iopub.status.idle": "2023-02-16T13:37:18.219869Z",
          "shell.execute_reply.started": "2023-02-16T13:37:18.17763Z",
          "shell.execute_reply": "2023-02-16T13:37:18.218501Z"
        },
        "trusted": true,
        "id": "xeeXskZ69wWc"
      },
      "execution_count": 12,
      "outputs": []
    },
    {
      "cell_type": "markdown",
      "source": [
        "Merge"
      ],
      "metadata": {
        "papermill": {
          "duration": 0.076173,
          "end_time": "2022-02-25T19:24:47.082821",
          "exception": false,
          "start_time": "2022-02-25T19:24:47.006648",
          "status": "completed"
        },
        "tags": [],
        "id": "svoAqZoT9wWc"
      }
    },
    {
      "cell_type": "code",
      "source": [
        "df_features_season_w = df_season_results.groupby(['Season', 'WTeamID']).count().reset_index()[['Season', 'WTeamID']].rename(columns={\"WTeamID\": \"TeamID\"})\n",
        "df_features_season_l = df_season_results.groupby(['Season', 'LTeamID']).count().reset_index()[['Season', 'LTeamID']].rename(columns={\"LTeamID\": \"TeamID\"})"
      ],
      "metadata": {
        "papermill": {
          "duration": 0.115032,
          "end_time": "2022-02-25T19:24:47.274624",
          "exception": false,
          "start_time": "2022-02-25T19:24:47.159592",
          "status": "completed"
        },
        "tags": [],
        "execution": {
          "iopub.status.busy": "2023-02-16T13:37:18.221838Z",
          "iopub.execute_input": "2023-02-16T13:37:18.222511Z",
          "iopub.status.idle": "2023-02-16T13:37:18.297066Z",
          "shell.execute_reply.started": "2023-02-16T13:37:18.222454Z",
          "shell.execute_reply": "2023-02-16T13:37:18.295884Z"
        },
        "trusted": true,
        "id": "gZPNnmqn9wWd"
      },
      "execution_count": 13,
      "outputs": []
    },
    {
      "cell_type": "code",
      "source": [
        "df_features_season = pd.concat([df_features_season_w, df_features_season_l], axis=0).drop_duplicates().sort_values(['Season', 'TeamID']).reset_index(drop=True)"
      ],
      "metadata": {
        "papermill": {
          "duration": 0.097733,
          "end_time": "2022-02-25T19:24:47.447108",
          "exception": false,
          "start_time": "2022-02-25T19:24:47.349375",
          "status": "completed"
        },
        "tags": [],
        "execution": {
          "iopub.status.busy": "2023-02-16T13:37:18.298876Z",
          "iopub.execute_input": "2023-02-16T13:37:18.299351Z",
          "iopub.status.idle": "2023-02-16T13:37:18.321503Z",
          "shell.execute_reply.started": "2023-02-16T13:37:18.299311Z",
          "shell.execute_reply": "2023-02-16T13:37:18.318705Z"
        },
        "trusted": true,
        "id": "CokNSPJp9wWd"
      },
      "execution_count": 14,
      "outputs": []
    },
    {
      "cell_type": "code",
      "source": [
        "df_features_season = df_features_season.merge(num_win, on=['Season', 'TeamID'], how='left')\n",
        "df_features_season = df_features_season.merge(num_loss, on=['Season', 'TeamID'], how='left')\n",
        "df_features_season = df_features_season.merge(gap_win, on=['Season', 'TeamID'], how='left')\n",
        "df_features_season = df_features_season.merge(gap_loss, on=['Season', 'TeamID'], how='left')"
      ],
      "metadata": {
        "papermill": {
          "duration": 0.108977,
          "end_time": "2022-02-25T19:24:47.63335",
          "exception": false,
          "start_time": "2022-02-25T19:24:47.524373",
          "status": "completed"
        },
        "tags": [],
        "execution": {
          "iopub.status.busy": "2023-02-16T13:37:18.323357Z",
          "iopub.execute_input": "2023-02-16T13:37:18.32402Z",
          "iopub.status.idle": "2023-02-16T13:37:18.365603Z",
          "shell.execute_reply.started": "2023-02-16T13:37:18.32396Z",
          "shell.execute_reply": "2023-02-16T13:37:18.364398Z"
        },
        "trusted": true,
        "id": "8W6uMu8E9wWd"
      },
      "execution_count": 15,
      "outputs": []
    },
    {
      "cell_type": "code",
      "source": [
        "df_features_season.fillna(0, inplace=True)  "
      ],
      "metadata": {
        "papermill": {
          "duration": 0.084708,
          "end_time": "2022-02-25T19:24:47.795526",
          "exception": false,
          "start_time": "2022-02-25T19:24:47.710818",
          "status": "completed"
        },
        "tags": [],
        "execution": {
          "iopub.status.busy": "2023-02-16T13:37:18.36777Z",
          "iopub.execute_input": "2023-02-16T13:37:18.36822Z",
          "iopub.status.idle": "2023-02-16T13:37:18.375905Z",
          "shell.execute_reply.started": "2023-02-16T13:37:18.368172Z",
          "shell.execute_reply": "2023-02-16T13:37:18.374695Z"
        },
        "trusted": true,
        "id": "_NZlgCGy9wWe"
      },
      "execution_count": 16,
      "outputs": []
    },
    {
      "cell_type": "markdown",
      "source": [
        "Compute features"
      ],
      "metadata": {
        "papermill": {
          "duration": 0.077625,
          "end_time": "2022-02-25T19:24:47.950152",
          "exception": false,
          "start_time": "2022-02-25T19:24:47.872527",
          "status": "completed"
        },
        "tags": [],
        "id": "cwy_La-J9wWe"
      }
    },
    {
      "cell_type": "code",
      "source": [
        "df_features_season['WinRatio'] = df_features_season['NumWins'] / (df_features_season['NumWins'] + df_features_season['NumLosses'])\n",
        "df_features_season['GapAvg'] = (\n",
        "    (df_features_season['NumWins'] * df_features_season['GapWins'] - \n",
        "    df_features_season['NumLosses'] * df_features_season['GapLosses'])\n",
        "    / (df_features_season['NumWins'] + df_features_season['NumLosses'])\n",
        ")"
      ],
      "metadata": {
        "papermill": {
          "duration": 0.088655,
          "end_time": "2022-02-25T19:24:48.11631",
          "exception": false,
          "start_time": "2022-02-25T19:24:48.027655",
          "status": "completed"
        },
        "tags": [],
        "execution": {
          "iopub.status.busy": "2023-02-16T13:37:18.377712Z",
          "iopub.execute_input": "2023-02-16T13:37:18.378286Z",
          "iopub.status.idle": "2023-02-16T13:37:18.394841Z",
          "shell.execute_reply.started": "2023-02-16T13:37:18.378231Z",
          "shell.execute_reply": "2023-02-16T13:37:18.393464Z"
        },
        "trusted": true,
        "id": "sQ7zJ-uf9wWe"
      },
      "execution_count": 17,
      "outputs": []
    },
    {
      "cell_type": "code",
      "source": [
        "df_features_season.drop(['NumWins', 'NumLosses', 'GapWins', 'GapLosses'], axis=1, inplace=True)"
      ],
      "metadata": {
        "papermill": {
          "duration": 0.086904,
          "end_time": "2022-02-25T19:24:48.282185",
          "exception": false,
          "start_time": "2022-02-25T19:24:48.195281",
          "status": "completed"
        },
        "tags": [],
        "execution": {
          "iopub.status.busy": "2023-02-16T13:37:18.39642Z",
          "iopub.execute_input": "2023-02-16T13:37:18.397369Z",
          "iopub.status.idle": "2023-02-16T13:37:18.411404Z",
          "shell.execute_reply.started": "2023-02-16T13:37:18.39732Z",
          "shell.execute_reply": "2023-02-16T13:37:18.410195Z"
        },
        "trusted": true,
        "id": "I7CzdEow9wWe"
      },
      "execution_count": 18,
      "outputs": []
    },
    {
      "cell_type": "markdown",
      "source": [
        "## Tourney results\n",
        "\n",
        "> This file identifies the game-by-game NCAA® tournament results for all seasons of historical data. The data is formatted exactly like the MRegularSeasonCompactResults data. All games will show up as neutral site (so WLoc is always N). Note that this tournament game data also includes the play-in games (which always occurred on day 134/135) for those years that had play-in games. Thus each season you will see between 63 and 67 games listed, depending on how many play-in games there were."
      ],
      "metadata": {
        "papermill": {
          "duration": 0.076423,
          "end_time": "2022-02-25T19:24:48.436466",
          "exception": false,
          "start_time": "2022-02-25T19:24:48.360043",
          "status": "completed"
        },
        "tags": [],
        "id": "ckx91Biq9wWf"
      }
    },
    {
      "cell_type": "code",
      "source": [
        "df_tourney_results = pd.concat([\n",
        "    pd.read_csv(DATA_PATH + \"WNCAATourneyCompactResults.csv\"),\n",
        "    pd.read_csv(DATA_PATH + \"MNCAATourneyCompactResults.csv\"),\n",
        "], ignore_index=True)\n",
        "df_tourney_results.drop(['NumOT', 'WLoc'], axis=1, inplace=True)"
      ],
      "metadata": {
        "papermill": {
          "duration": 0.091465,
          "end_time": "2022-02-25T19:24:48.604278",
          "exception": false,
          "start_time": "2022-02-25T19:24:48.512813",
          "status": "completed"
        },
        "tags": [],
        "execution": {
          "iopub.status.busy": "2023-02-16T13:37:18.413566Z",
          "iopub.execute_input": "2023-02-16T13:37:18.414393Z",
          "iopub.status.idle": "2023-02-16T13:37:18.436633Z",
          "shell.execute_reply.started": "2023-02-16T13:37:18.414337Z",
          "shell.execute_reply": "2023-02-16T13:37:18.435538Z"
        },
        "trusted": true,
        "id": "3wgIZ8179wWf"
      },
      "execution_count": 19,
      "outputs": []
    },
    {
      "cell_type": "markdown",
      "source": [
        "## FiveThirtyEight Ratings\n",
        "> Not available yet !"
      ],
      "metadata": {
        "papermill": {
          "duration": 0.075937,
          "end_time": "2022-02-25T19:24:48.75476",
          "exception": false,
          "start_time": "2022-02-25T19:24:48.678823",
          "status": "completed"
        },
        "tags": [],
        "id": "ydHrhvLW9wWf"
      }
    },
    {
      "cell_type": "code",
      "source": [
        "# df_538 = pd.read_csv(\"../input/ncaa-men-538-team-ratings/538ratingsMen.csv\")\n",
        "# df_538.drop('TeamName', axis=1, inplace=True)\n",
        "# df_538.head()"
      ],
      "metadata": {
        "papermill": {
          "duration": 0.100045,
          "end_time": "2022-02-25T19:24:48.93055",
          "exception": false,
          "start_time": "2022-02-25T19:24:48.830505",
          "status": "completed"
        },
        "tags": [],
        "execution": {
          "iopub.status.busy": "2023-02-16T13:37:18.438064Z",
          "iopub.execute_input": "2023-02-16T13:37:18.438647Z",
          "iopub.status.idle": "2023-02-16T13:37:18.443468Z",
          "shell.execute_reply.started": "2023-02-16T13:37:18.438608Z",
          "shell.execute_reply": "2023-02-16T13:37:18.441919Z"
        },
        "trusted": true,
        "id": "3CE6Dn0N9wWf"
      },
      "execution_count": 20,
      "outputs": []
    },
    {
      "cell_type": "markdown",
      "source": [
        "# Feature Engineering"
      ],
      "metadata": {
        "papermill": {
          "duration": 0.077468,
          "end_time": "2022-02-25T19:24:49.086308",
          "exception": false,
          "start_time": "2022-02-25T19:24:49.00884",
          "status": "completed"
        },
        "tags": [],
        "id": "ErcxG4ue9wWg"
      }
    },
    {
      "cell_type": "markdown",
      "source": [
        "## Train data"
      ],
      "metadata": {
        "papermill": {
          "duration": 0.075714,
          "end_time": "2022-02-25T19:24:49.241148",
          "exception": false,
          "start_time": "2022-02-25T19:24:49.165434",
          "status": "completed"
        },
        "tags": [],
        "id": "hfBHH02m9wWg"
      }
    },
    {
      "cell_type": "code",
      "source": [
        "df = df_tourney_results.copy()\n",
        "df = df[df['Season'] >= 2016].reset_index(drop=True)\n",
        "\n",
        "df.head()"
      ],
      "metadata": {
        "papermill": {
          "duration": 0.090144,
          "end_time": "2022-02-25T19:24:49.409149",
          "exception": false,
          "start_time": "2022-02-25T19:24:49.319005",
          "status": "completed"
        },
        "tags": [],
        "execution": {
          "iopub.status.busy": "2023-02-16T13:37:18.445441Z",
          "iopub.execute_input": "2023-02-16T13:37:18.445847Z",
          "iopub.status.idle": "2023-02-16T13:37:18.467166Z",
          "shell.execute_reply.started": "2023-02-16T13:37:18.445791Z",
          "shell.execute_reply": "2023-02-16T13:37:18.465385Z"
        },
        "trusted": true,
        "colab": {
          "base_uri": "https://localhost:8080/",
          "height": 206
        },
        "id": "rNoPzLpM9wWg",
        "outputId": "ea7b75bb-ed37-48cf-bd3c-12cd635a355e"
      },
      "execution_count": 21,
      "outputs": [
        {
          "output_type": "execute_result",
          "data": {
            "text/plain": [
              "   Season  DayNum  WTeamID  WScore  LTeamID  LScore\n",
              "0    2016     137     3107      61     3196      59\n",
              "1    2016     137     3113      74     3308      52\n",
              "2    2016     137     3120      68     3385      57\n",
              "3    2016     137     3124      89     3225      59\n",
              "4    2016     137     3177      97     3241      67"
            ],
            "text/html": [
              "\n",
              "  <div id=\"df-cb186b7b-25fa-4d26-a40b-e509dd525805\">\n",
              "    <div class=\"colab-df-container\">\n",
              "      <div>\n",
              "<style scoped>\n",
              "    .dataframe tbody tr th:only-of-type {\n",
              "        vertical-align: middle;\n",
              "    }\n",
              "\n",
              "    .dataframe tbody tr th {\n",
              "        vertical-align: top;\n",
              "    }\n",
              "\n",
              "    .dataframe thead th {\n",
              "        text-align: right;\n",
              "    }\n",
              "</style>\n",
              "<table border=\"1\" class=\"dataframe\">\n",
              "  <thead>\n",
              "    <tr style=\"text-align: right;\">\n",
              "      <th></th>\n",
              "      <th>Season</th>\n",
              "      <th>DayNum</th>\n",
              "      <th>WTeamID</th>\n",
              "      <th>WScore</th>\n",
              "      <th>LTeamID</th>\n",
              "      <th>LScore</th>\n",
              "    </tr>\n",
              "  </thead>\n",
              "  <tbody>\n",
              "    <tr>\n",
              "      <th>0</th>\n",
              "      <td>2016</td>\n",
              "      <td>137</td>\n",
              "      <td>3107</td>\n",
              "      <td>61</td>\n",
              "      <td>3196</td>\n",
              "      <td>59</td>\n",
              "    </tr>\n",
              "    <tr>\n",
              "      <th>1</th>\n",
              "      <td>2016</td>\n",
              "      <td>137</td>\n",
              "      <td>3113</td>\n",
              "      <td>74</td>\n",
              "      <td>3308</td>\n",
              "      <td>52</td>\n",
              "    </tr>\n",
              "    <tr>\n",
              "      <th>2</th>\n",
              "      <td>2016</td>\n",
              "      <td>137</td>\n",
              "      <td>3120</td>\n",
              "      <td>68</td>\n",
              "      <td>3385</td>\n",
              "      <td>57</td>\n",
              "    </tr>\n",
              "    <tr>\n",
              "      <th>3</th>\n",
              "      <td>2016</td>\n",
              "      <td>137</td>\n",
              "      <td>3124</td>\n",
              "      <td>89</td>\n",
              "      <td>3225</td>\n",
              "      <td>59</td>\n",
              "    </tr>\n",
              "    <tr>\n",
              "      <th>4</th>\n",
              "      <td>2016</td>\n",
              "      <td>137</td>\n",
              "      <td>3177</td>\n",
              "      <td>97</td>\n",
              "      <td>3241</td>\n",
              "      <td>67</td>\n",
              "    </tr>\n",
              "  </tbody>\n",
              "</table>\n",
              "</div>\n",
              "      <button class=\"colab-df-convert\" onclick=\"convertToInteractive('df-cb186b7b-25fa-4d26-a40b-e509dd525805')\"\n",
              "              title=\"Convert this dataframe to an interactive table.\"\n",
              "              style=\"display:none;\">\n",
              "        \n",
              "  <svg xmlns=\"http://www.w3.org/2000/svg\" height=\"24px\"viewBox=\"0 0 24 24\"\n",
              "       width=\"24px\">\n",
              "    <path d=\"M0 0h24v24H0V0z\" fill=\"none\"/>\n",
              "    <path d=\"M18.56 5.44l.94 2.06.94-2.06 2.06-.94-2.06-.94-.94-2.06-.94 2.06-2.06.94zm-11 1L8.5 8.5l.94-2.06 2.06-.94-2.06-.94L8.5 2.5l-.94 2.06-2.06.94zm10 10l.94 2.06.94-2.06 2.06-.94-2.06-.94-.94-2.06-.94 2.06-2.06.94z\"/><path d=\"M17.41 7.96l-1.37-1.37c-.4-.4-.92-.59-1.43-.59-.52 0-1.04.2-1.43.59L10.3 9.45l-7.72 7.72c-.78.78-.78 2.05 0 2.83L4 21.41c.39.39.9.59 1.41.59.51 0 1.02-.2 1.41-.59l7.78-7.78 2.81-2.81c.8-.78.8-2.07 0-2.86zM5.41 20L4 18.59l7.72-7.72 1.47 1.35L5.41 20z\"/>\n",
              "  </svg>\n",
              "      </button>\n",
              "      \n",
              "  <style>\n",
              "    .colab-df-container {\n",
              "      display:flex;\n",
              "      flex-wrap:wrap;\n",
              "      gap: 12px;\n",
              "    }\n",
              "\n",
              "    .colab-df-convert {\n",
              "      background-color: #E8F0FE;\n",
              "      border: none;\n",
              "      border-radius: 50%;\n",
              "      cursor: pointer;\n",
              "      display: none;\n",
              "      fill: #1967D2;\n",
              "      height: 32px;\n",
              "      padding: 0 0 0 0;\n",
              "      width: 32px;\n",
              "    }\n",
              "\n",
              "    .colab-df-convert:hover {\n",
              "      background-color: #E2EBFA;\n",
              "      box-shadow: 0px 1px 2px rgba(60, 64, 67, 0.3), 0px 1px 3px 1px rgba(60, 64, 67, 0.15);\n",
              "      fill: #174EA6;\n",
              "    }\n",
              "\n",
              "    [theme=dark] .colab-df-convert {\n",
              "      background-color: #3B4455;\n",
              "      fill: #D2E3FC;\n",
              "    }\n",
              "\n",
              "    [theme=dark] .colab-df-convert:hover {\n",
              "      background-color: #434B5C;\n",
              "      box-shadow: 0px 1px 3px 1px rgba(0, 0, 0, 0.15);\n",
              "      filter: drop-shadow(0px 1px 2px rgba(0, 0, 0, 0.3));\n",
              "      fill: #FFFFFF;\n",
              "    }\n",
              "  </style>\n",
              "\n",
              "      <script>\n",
              "        const buttonEl =\n",
              "          document.querySelector('#df-cb186b7b-25fa-4d26-a40b-e509dd525805 button.colab-df-convert');\n",
              "        buttonEl.style.display =\n",
              "          google.colab.kernel.accessAllowed ? 'block' : 'none';\n",
              "\n",
              "        async function convertToInteractive(key) {\n",
              "          const element = document.querySelector('#df-cb186b7b-25fa-4d26-a40b-e509dd525805');\n",
              "          const dataTable =\n",
              "            await google.colab.kernel.invokeFunction('convertToInteractive',\n",
              "                                                     [key], {});\n",
              "          if (!dataTable) return;\n",
              "\n",
              "          const docLinkHtml = 'Like what you see? Visit the ' +\n",
              "            '<a target=\"_blank\" href=https://colab.research.google.com/notebooks/data_table.ipynb>data table notebook</a>'\n",
              "            + ' to learn more about interactive tables.';\n",
              "          element.innerHTML = '';\n",
              "          dataTable['output_type'] = 'display_data';\n",
              "          await google.colab.output.renderOutput(dataTable, element);\n",
              "          const docLink = document.createElement('div');\n",
              "          docLink.innerHTML = docLinkHtml;\n",
              "          element.appendChild(docLink);\n",
              "        }\n",
              "      </script>\n",
              "    </div>\n",
              "  </div>\n",
              "  "
            ]
          },
          "metadata": {},
          "execution_count": 21
        }
      ]
    },
    {
      "cell_type": "markdown",
      "source": [
        "### Seeds\n",
        "- `SeedW` is the seed of the winning team\n",
        "- `SeedL` is the seed of the losing team"
      ],
      "metadata": {
        "papermill": {
          "duration": 0.077685,
          "end_time": "2022-02-25T19:24:49.564605",
          "exception": false,
          "start_time": "2022-02-25T19:24:49.48692",
          "status": "completed"
        },
        "tags": [],
        "id": "A4PnFkAi9wWg"
      }
    },
    {
      "cell_type": "code",
      "source": [
        "df = pd.merge(\n",
        "    df, \n",
        "    df_seeds, \n",
        "    how='left', \n",
        "    left_on=['Season', 'WTeamID'], \n",
        "    right_on=['Season', 'TeamID']\n",
        ").drop('TeamID', axis=1).rename(columns={'Seed': 'SeedW'})"
      ],
      "metadata": {
        "papermill": {
          "duration": 0.091087,
          "end_time": "2022-02-25T19:24:49.733599",
          "exception": false,
          "start_time": "2022-02-25T19:24:49.642512",
          "status": "completed"
        },
        "tags": [],
        "execution": {
          "iopub.status.busy": "2023-02-16T13:37:18.468411Z",
          "iopub.execute_input": "2023-02-16T13:37:18.469399Z",
          "iopub.status.idle": "2023-02-16T13:37:18.482379Z",
          "shell.execute_reply.started": "2023-02-16T13:37:18.469351Z",
          "shell.execute_reply": "2023-02-16T13:37:18.481139Z"
        },
        "trusted": true,
        "id": "_EW38ddQ9wWg"
      },
      "execution_count": 22,
      "outputs": []
    },
    {
      "cell_type": "code",
      "source": [
        "df = pd.merge(\n",
        "    df, \n",
        "    df_seeds, \n",
        "    how='left', \n",
        "    left_on=['Season', 'LTeamID'], \n",
        "    right_on=['Season', 'TeamID']\n",
        ").drop('TeamID', axis=1).rename(columns={'Seed': 'SeedL'})"
      ],
      "metadata": {
        "papermill": {
          "duration": 0.0925,
          "end_time": "2022-02-25T19:24:49.905108",
          "exception": false,
          "start_time": "2022-02-25T19:24:49.812608",
          "status": "completed"
        },
        "tags": [],
        "execution": {
          "iopub.status.busy": "2023-02-16T13:37:18.484212Z",
          "iopub.execute_input": "2023-02-16T13:37:18.484635Z",
          "iopub.status.idle": "2023-02-16T13:37:18.499228Z",
          "shell.execute_reply.started": "2023-02-16T13:37:18.484594Z",
          "shell.execute_reply": "2023-02-16T13:37:18.497716Z"
        },
        "trusted": true,
        "id": "y4hAkczK9wWh"
      },
      "execution_count": 23,
      "outputs": []
    },
    {
      "cell_type": "code",
      "source": [
        "def treat_seed(seed):\n",
        "    return int(re.sub(\"[^0-9]\", \"\", seed))"
      ],
      "metadata": {
        "papermill": {
          "duration": 0.085338,
          "end_time": "2022-02-25T19:24:50.068822",
          "exception": false,
          "start_time": "2022-02-25T19:24:49.983484",
          "status": "completed"
        },
        "tags": [],
        "execution": {
          "iopub.status.busy": "2023-02-16T13:37:18.500704Z",
          "iopub.execute_input": "2023-02-16T13:37:18.501644Z",
          "iopub.status.idle": "2023-02-16T13:37:18.507598Z",
          "shell.execute_reply.started": "2023-02-16T13:37:18.501602Z",
          "shell.execute_reply": "2023-02-16T13:37:18.506035Z"
        },
        "trusted": true,
        "id": "hLu3_rGW9wWh"
      },
      "execution_count": 24,
      "outputs": []
    },
    {
      "cell_type": "code",
      "source": [
        "df['SeedW'] = df['SeedW'].apply(treat_seed)\n",
        "df['SeedL'] = df['SeedL'].apply(treat_seed)"
      ],
      "metadata": {
        "papermill": {
          "duration": 0.08807,
          "end_time": "2022-02-25T19:24:50.235147",
          "exception": false,
          "start_time": "2022-02-25T19:24:50.147077",
          "status": "completed"
        },
        "tags": [],
        "execution": {
          "iopub.status.busy": "2023-02-16T13:37:18.509124Z",
          "iopub.execute_input": "2023-02-16T13:37:18.510115Z",
          "iopub.status.idle": "2023-02-16T13:37:18.525974Z",
          "shell.execute_reply.started": "2023-02-16T13:37:18.51007Z",
          "shell.execute_reply": "2023-02-16T13:37:18.524379Z"
        },
        "trusted": true,
        "id": "RCu0WXSv9wWh"
      },
      "execution_count": 25,
      "outputs": []
    },
    {
      "cell_type": "code",
      "source": [
        "df.head()"
      ],
      "metadata": {
        "papermill": {
          "duration": 0.08983,
          "end_time": "2022-02-25T19:24:50.402607",
          "exception": false,
          "start_time": "2022-02-25T19:24:50.312777",
          "status": "completed"
        },
        "tags": [],
        "execution": {
          "iopub.status.busy": "2023-02-16T13:37:18.532812Z",
          "iopub.execute_input": "2023-02-16T13:37:18.533295Z",
          "iopub.status.idle": "2023-02-16T13:37:18.549566Z",
          "shell.execute_reply.started": "2023-02-16T13:37:18.533253Z",
          "shell.execute_reply": "2023-02-16T13:37:18.547949Z"
        },
        "trusted": true,
        "colab": {
          "base_uri": "https://localhost:8080/",
          "height": 206
        },
        "id": "NSjDfV1r9wWh",
        "outputId": "0e768f7e-eda4-4dae-c5c7-2464d7d49e8f"
      },
      "execution_count": 26,
      "outputs": [
        {
          "output_type": "execute_result",
          "data": {
            "text/plain": [
              "   Season  DayNum  WTeamID  WScore  LTeamID  LScore  SeedW  SeedL\n",
              "0    2016     137     3107      61     3196      59     12      5\n",
              "1    2016     137     3113      74     3308      52      2     15\n",
              "2    2016     137     3120      68     3385      57      9      8\n",
              "3    2016     137     3124      89     3225      59      1     16\n",
              "4    2016     137     3177      97     3241      67      6     11"
            ],
            "text/html": [
              "\n",
              "  <div id=\"df-6fc020a3-bb75-4a2a-933b-d2b3c4bd49fa\">\n",
              "    <div class=\"colab-df-container\">\n",
              "      <div>\n",
              "<style scoped>\n",
              "    .dataframe tbody tr th:only-of-type {\n",
              "        vertical-align: middle;\n",
              "    }\n",
              "\n",
              "    .dataframe tbody tr th {\n",
              "        vertical-align: top;\n",
              "    }\n",
              "\n",
              "    .dataframe thead th {\n",
              "        text-align: right;\n",
              "    }\n",
              "</style>\n",
              "<table border=\"1\" class=\"dataframe\">\n",
              "  <thead>\n",
              "    <tr style=\"text-align: right;\">\n",
              "      <th></th>\n",
              "      <th>Season</th>\n",
              "      <th>DayNum</th>\n",
              "      <th>WTeamID</th>\n",
              "      <th>WScore</th>\n",
              "      <th>LTeamID</th>\n",
              "      <th>LScore</th>\n",
              "      <th>SeedW</th>\n",
              "      <th>SeedL</th>\n",
              "    </tr>\n",
              "  </thead>\n",
              "  <tbody>\n",
              "    <tr>\n",
              "      <th>0</th>\n",
              "      <td>2016</td>\n",
              "      <td>137</td>\n",
              "      <td>3107</td>\n",
              "      <td>61</td>\n",
              "      <td>3196</td>\n",
              "      <td>59</td>\n",
              "      <td>12</td>\n",
              "      <td>5</td>\n",
              "    </tr>\n",
              "    <tr>\n",
              "      <th>1</th>\n",
              "      <td>2016</td>\n",
              "      <td>137</td>\n",
              "      <td>3113</td>\n",
              "      <td>74</td>\n",
              "      <td>3308</td>\n",
              "      <td>52</td>\n",
              "      <td>2</td>\n",
              "      <td>15</td>\n",
              "    </tr>\n",
              "    <tr>\n",
              "      <th>2</th>\n",
              "      <td>2016</td>\n",
              "      <td>137</td>\n",
              "      <td>3120</td>\n",
              "      <td>68</td>\n",
              "      <td>3385</td>\n",
              "      <td>57</td>\n",
              "      <td>9</td>\n",
              "      <td>8</td>\n",
              "    </tr>\n",
              "    <tr>\n",
              "      <th>3</th>\n",
              "      <td>2016</td>\n",
              "      <td>137</td>\n",
              "      <td>3124</td>\n",
              "      <td>89</td>\n",
              "      <td>3225</td>\n",
              "      <td>59</td>\n",
              "      <td>1</td>\n",
              "      <td>16</td>\n",
              "    </tr>\n",
              "    <tr>\n",
              "      <th>4</th>\n",
              "      <td>2016</td>\n",
              "      <td>137</td>\n",
              "      <td>3177</td>\n",
              "      <td>97</td>\n",
              "      <td>3241</td>\n",
              "      <td>67</td>\n",
              "      <td>6</td>\n",
              "      <td>11</td>\n",
              "    </tr>\n",
              "  </tbody>\n",
              "</table>\n",
              "</div>\n",
              "      <button class=\"colab-df-convert\" onclick=\"convertToInteractive('df-6fc020a3-bb75-4a2a-933b-d2b3c4bd49fa')\"\n",
              "              title=\"Convert this dataframe to an interactive table.\"\n",
              "              style=\"display:none;\">\n",
              "        \n",
              "  <svg xmlns=\"http://www.w3.org/2000/svg\" height=\"24px\"viewBox=\"0 0 24 24\"\n",
              "       width=\"24px\">\n",
              "    <path d=\"M0 0h24v24H0V0z\" fill=\"none\"/>\n",
              "    <path d=\"M18.56 5.44l.94 2.06.94-2.06 2.06-.94-2.06-.94-.94-2.06-.94 2.06-2.06.94zm-11 1L8.5 8.5l.94-2.06 2.06-.94-2.06-.94L8.5 2.5l-.94 2.06-2.06.94zm10 10l.94 2.06.94-2.06 2.06-.94-2.06-.94-.94-2.06-.94 2.06-2.06.94z\"/><path d=\"M17.41 7.96l-1.37-1.37c-.4-.4-.92-.59-1.43-.59-.52 0-1.04.2-1.43.59L10.3 9.45l-7.72 7.72c-.78.78-.78 2.05 0 2.83L4 21.41c.39.39.9.59 1.41.59.51 0 1.02-.2 1.41-.59l7.78-7.78 2.81-2.81c.8-.78.8-2.07 0-2.86zM5.41 20L4 18.59l7.72-7.72 1.47 1.35L5.41 20z\"/>\n",
              "  </svg>\n",
              "      </button>\n",
              "      \n",
              "  <style>\n",
              "    .colab-df-container {\n",
              "      display:flex;\n",
              "      flex-wrap:wrap;\n",
              "      gap: 12px;\n",
              "    }\n",
              "\n",
              "    .colab-df-convert {\n",
              "      background-color: #E8F0FE;\n",
              "      border: none;\n",
              "      border-radius: 50%;\n",
              "      cursor: pointer;\n",
              "      display: none;\n",
              "      fill: #1967D2;\n",
              "      height: 32px;\n",
              "      padding: 0 0 0 0;\n",
              "      width: 32px;\n",
              "    }\n",
              "\n",
              "    .colab-df-convert:hover {\n",
              "      background-color: #E2EBFA;\n",
              "      box-shadow: 0px 1px 2px rgba(60, 64, 67, 0.3), 0px 1px 3px 1px rgba(60, 64, 67, 0.15);\n",
              "      fill: #174EA6;\n",
              "    }\n",
              "\n",
              "    [theme=dark] .colab-df-convert {\n",
              "      background-color: #3B4455;\n",
              "      fill: #D2E3FC;\n",
              "    }\n",
              "\n",
              "    [theme=dark] .colab-df-convert:hover {\n",
              "      background-color: #434B5C;\n",
              "      box-shadow: 0px 1px 3px 1px rgba(0, 0, 0, 0.15);\n",
              "      filter: drop-shadow(0px 1px 2px rgba(0, 0, 0, 0.3));\n",
              "      fill: #FFFFFF;\n",
              "    }\n",
              "  </style>\n",
              "\n",
              "      <script>\n",
              "        const buttonEl =\n",
              "          document.querySelector('#df-6fc020a3-bb75-4a2a-933b-d2b3c4bd49fa button.colab-df-convert');\n",
              "        buttonEl.style.display =\n",
              "          google.colab.kernel.accessAllowed ? 'block' : 'none';\n",
              "\n",
              "        async function convertToInteractive(key) {\n",
              "          const element = document.querySelector('#df-6fc020a3-bb75-4a2a-933b-d2b3c4bd49fa');\n",
              "          const dataTable =\n",
              "            await google.colab.kernel.invokeFunction('convertToInteractive',\n",
              "                                                     [key], {});\n",
              "          if (!dataTable) return;\n",
              "\n",
              "          const docLinkHtml = 'Like what you see? Visit the ' +\n",
              "            '<a target=\"_blank\" href=https://colab.research.google.com/notebooks/data_table.ipynb>data table notebook</a>'\n",
              "            + ' to learn more about interactive tables.';\n",
              "          element.innerHTML = '';\n",
              "          dataTable['output_type'] = 'display_data';\n",
              "          await google.colab.output.renderOutput(dataTable, element);\n",
              "          const docLink = document.createElement('div');\n",
              "          docLink.innerHTML = docLinkHtml;\n",
              "          element.appendChild(docLink);\n",
              "        }\n",
              "      </script>\n",
              "    </div>\n",
              "  </div>\n",
              "  "
            ]
          },
          "metadata": {},
          "execution_count": 26
        }
      ]
    },
    {
      "cell_type": "markdown",
      "source": [
        "### Season Stats\n",
        "- `WinRatioW` is the win ratio of the winning team during the season\n",
        "- `WinRatioL` is the win ratio of the losing team during the season"
      ],
      "metadata": {
        "papermill": {
          "duration": 0.077172,
          "end_time": "2022-02-25T19:24:50.559019",
          "exception": false,
          "start_time": "2022-02-25T19:24:50.481847",
          "status": "completed"
        },
        "tags": [],
        "id": "4fMYW1Kh9wWh"
      }
    },
    {
      "cell_type": "code",
      "source": [
        "df = pd.merge(\n",
        "    df,\n",
        "    df_features_season,\n",
        "    how='left',\n",
        "    left_on=['Season', 'WTeamID'],\n",
        "    right_on=['Season', 'TeamID']\n",
        ").rename(columns={\n",
        "    'NumWins': 'NumWinsW',\n",
        "    'NumLosses': 'NumLossesW',\n",
        "    'GapWins': 'GapWinsW',\n",
        "    'GapLosses': 'GapLossesW',\n",
        "    'WinRatio': 'WinRatioW',\n",
        "    'GapAvg': 'GapAvgW',\n",
        "}).drop(columns='TeamID', axis=1)"
      ],
      "metadata": {
        "papermill": {
          "duration": 0.09296,
          "end_time": "2022-02-25T19:24:50.729911",
          "exception": false,
          "start_time": "2022-02-25T19:24:50.636951",
          "status": "completed"
        },
        "tags": [],
        "execution": {
          "iopub.status.busy": "2023-02-16T13:37:18.551221Z",
          "iopub.execute_input": "2023-02-16T13:37:18.552035Z",
          "iopub.status.idle": "2023-02-16T13:37:18.567209Z",
          "shell.execute_reply.started": "2023-02-16T13:37:18.55199Z",
          "shell.execute_reply": "2023-02-16T13:37:18.565592Z"
        },
        "trusted": true,
        "id": "OPP11Uqi9wWi"
      },
      "execution_count": 27,
      "outputs": []
    },
    {
      "cell_type": "code",
      "source": [
        "df = pd.merge(\n",
        "    df,\n",
        "    df_features_season,\n",
        "    how='left',\n",
        "    left_on=['Season', 'LTeamID'],\n",
        "    right_on=['Season', 'TeamID']\n",
        ").rename(columns={\n",
        "    'NumWins': 'NumWinsL',\n",
        "    'NumLosses': 'NumLossesL',\n",
        "    'GapWins': 'GapWinsL',\n",
        "    'GapLosses': 'GapLossesL',\n",
        "    'WinRatio': 'WinRatioL',\n",
        "    'GapAvg': 'GapAvgL',\n",
        "}).drop(columns='TeamID', axis=1)"
      ],
      "metadata": {
        "papermill": {
          "duration": 0.088831,
          "end_time": "2022-02-25T19:24:50.896663",
          "exception": false,
          "start_time": "2022-02-25T19:24:50.807832",
          "status": "completed"
        },
        "tags": [],
        "execution": {
          "iopub.status.busy": "2023-02-16T13:37:18.568641Z",
          "iopub.execute_input": "2023-02-16T13:37:18.569532Z",
          "iopub.status.idle": "2023-02-16T13:37:18.583705Z",
          "shell.execute_reply.started": "2023-02-16T13:37:18.56949Z",
          "shell.execute_reply": "2023-02-16T13:37:18.582582Z"
        },
        "trusted": true,
        "id": "uy35ricv9wWi"
      },
      "execution_count": 28,
      "outputs": []
    },
    {
      "cell_type": "code",
      "source": [
        "df.head()"
      ],
      "metadata": {
        "papermill": {
          "duration": 0.097114,
          "end_time": "2022-02-25T19:24:51.072707",
          "exception": false,
          "start_time": "2022-02-25T19:24:50.975593",
          "status": "completed"
        },
        "tags": [],
        "execution": {
          "iopub.status.busy": "2023-02-16T13:37:18.584985Z",
          "iopub.execute_input": "2023-02-16T13:37:18.585704Z",
          "iopub.status.idle": "2023-02-16T13:37:18.606608Z",
          "shell.execute_reply.started": "2023-02-16T13:37:18.5856Z",
          "shell.execute_reply": "2023-02-16T13:37:18.605567Z"
        },
        "trusted": true,
        "colab": {
          "base_uri": "https://localhost:8080/",
          "height": 206
        },
        "id": "b-ifhMu09wWi",
        "outputId": "ba833b8c-7d2b-45f2-d046-c0e95f851135"
      },
      "execution_count": 29,
      "outputs": [
        {
          "output_type": "execute_result",
          "data": {
            "text/plain": [
              "   Season  DayNum  WTeamID  WScore  LTeamID  LScore  SeedW  SeedL  WinRatioW  \\\n",
              "0    2016     137     3107      61     3196      59     12      5   0.870968   \n",
              "1    2016     137     3113      74     3308      52      2     15   0.806452   \n",
              "2    2016     137     3120      68     3385      57      9      8   0.612903   \n",
              "3    2016     137     3124      89     3225      59      1     16   0.970588   \n",
              "4    2016     137     3177      97     3241      67      6     11   0.757576   \n",
              "\n",
              "     GapAvgW  WinRatioL    GapAvgL  \n",
              "0  18.677419   0.733333   8.700000  \n",
              "1   9.258065   0.857143   8.964286  \n",
              "2   3.032258   0.718750   6.812500  \n",
              "3  24.617647   0.709677  10.612903  \n",
              "4  16.272727   0.843750  15.406250  "
            ],
            "text/html": [
              "\n",
              "  <div id=\"df-43405512-8110-4a38-b65f-da42b8412001\">\n",
              "    <div class=\"colab-df-container\">\n",
              "      <div>\n",
              "<style scoped>\n",
              "    .dataframe tbody tr th:only-of-type {\n",
              "        vertical-align: middle;\n",
              "    }\n",
              "\n",
              "    .dataframe tbody tr th {\n",
              "        vertical-align: top;\n",
              "    }\n",
              "\n",
              "    .dataframe thead th {\n",
              "        text-align: right;\n",
              "    }\n",
              "</style>\n",
              "<table border=\"1\" class=\"dataframe\">\n",
              "  <thead>\n",
              "    <tr style=\"text-align: right;\">\n",
              "      <th></th>\n",
              "      <th>Season</th>\n",
              "      <th>DayNum</th>\n",
              "      <th>WTeamID</th>\n",
              "      <th>WScore</th>\n",
              "      <th>LTeamID</th>\n",
              "      <th>LScore</th>\n",
              "      <th>SeedW</th>\n",
              "      <th>SeedL</th>\n",
              "      <th>WinRatioW</th>\n",
              "      <th>GapAvgW</th>\n",
              "      <th>WinRatioL</th>\n",
              "      <th>GapAvgL</th>\n",
              "    </tr>\n",
              "  </thead>\n",
              "  <tbody>\n",
              "    <tr>\n",
              "      <th>0</th>\n",
              "      <td>2016</td>\n",
              "      <td>137</td>\n",
              "      <td>3107</td>\n",
              "      <td>61</td>\n",
              "      <td>3196</td>\n",
              "      <td>59</td>\n",
              "      <td>12</td>\n",
              "      <td>5</td>\n",
              "      <td>0.870968</td>\n",
              "      <td>18.677419</td>\n",
              "      <td>0.733333</td>\n",
              "      <td>8.700000</td>\n",
              "    </tr>\n",
              "    <tr>\n",
              "      <th>1</th>\n",
              "      <td>2016</td>\n",
              "      <td>137</td>\n",
              "      <td>3113</td>\n",
              "      <td>74</td>\n",
              "      <td>3308</td>\n",
              "      <td>52</td>\n",
              "      <td>2</td>\n",
              "      <td>15</td>\n",
              "      <td>0.806452</td>\n",
              "      <td>9.258065</td>\n",
              "      <td>0.857143</td>\n",
              "      <td>8.964286</td>\n",
              "    </tr>\n",
              "    <tr>\n",
              "      <th>2</th>\n",
              "      <td>2016</td>\n",
              "      <td>137</td>\n",
              "      <td>3120</td>\n",
              "      <td>68</td>\n",
              "      <td>3385</td>\n",
              "      <td>57</td>\n",
              "      <td>9</td>\n",
              "      <td>8</td>\n",
              "      <td>0.612903</td>\n",
              "      <td>3.032258</td>\n",
              "      <td>0.718750</td>\n",
              "      <td>6.812500</td>\n",
              "    </tr>\n",
              "    <tr>\n",
              "      <th>3</th>\n",
              "      <td>2016</td>\n",
              "      <td>137</td>\n",
              "      <td>3124</td>\n",
              "      <td>89</td>\n",
              "      <td>3225</td>\n",
              "      <td>59</td>\n",
              "      <td>1</td>\n",
              "      <td>16</td>\n",
              "      <td>0.970588</td>\n",
              "      <td>24.617647</td>\n",
              "      <td>0.709677</td>\n",
              "      <td>10.612903</td>\n",
              "    </tr>\n",
              "    <tr>\n",
              "      <th>4</th>\n",
              "      <td>2016</td>\n",
              "      <td>137</td>\n",
              "      <td>3177</td>\n",
              "      <td>97</td>\n",
              "      <td>3241</td>\n",
              "      <td>67</td>\n",
              "      <td>6</td>\n",
              "      <td>11</td>\n",
              "      <td>0.757576</td>\n",
              "      <td>16.272727</td>\n",
              "      <td>0.843750</td>\n",
              "      <td>15.406250</td>\n",
              "    </tr>\n",
              "  </tbody>\n",
              "</table>\n",
              "</div>\n",
              "      <button class=\"colab-df-convert\" onclick=\"convertToInteractive('df-43405512-8110-4a38-b65f-da42b8412001')\"\n",
              "              title=\"Convert this dataframe to an interactive table.\"\n",
              "              style=\"display:none;\">\n",
              "        \n",
              "  <svg xmlns=\"http://www.w3.org/2000/svg\" height=\"24px\"viewBox=\"0 0 24 24\"\n",
              "       width=\"24px\">\n",
              "    <path d=\"M0 0h24v24H0V0z\" fill=\"none\"/>\n",
              "    <path d=\"M18.56 5.44l.94 2.06.94-2.06 2.06-.94-2.06-.94-.94-2.06-.94 2.06-2.06.94zm-11 1L8.5 8.5l.94-2.06 2.06-.94-2.06-.94L8.5 2.5l-.94 2.06-2.06.94zm10 10l.94 2.06.94-2.06 2.06-.94-2.06-.94-.94-2.06-.94 2.06-2.06.94z\"/><path d=\"M17.41 7.96l-1.37-1.37c-.4-.4-.92-.59-1.43-.59-.52 0-1.04.2-1.43.59L10.3 9.45l-7.72 7.72c-.78.78-.78 2.05 0 2.83L4 21.41c.39.39.9.59 1.41.59.51 0 1.02-.2 1.41-.59l7.78-7.78 2.81-2.81c.8-.78.8-2.07 0-2.86zM5.41 20L4 18.59l7.72-7.72 1.47 1.35L5.41 20z\"/>\n",
              "  </svg>\n",
              "      </button>\n",
              "      \n",
              "  <style>\n",
              "    .colab-df-container {\n",
              "      display:flex;\n",
              "      flex-wrap:wrap;\n",
              "      gap: 12px;\n",
              "    }\n",
              "\n",
              "    .colab-df-convert {\n",
              "      background-color: #E8F0FE;\n",
              "      border: none;\n",
              "      border-radius: 50%;\n",
              "      cursor: pointer;\n",
              "      display: none;\n",
              "      fill: #1967D2;\n",
              "      height: 32px;\n",
              "      padding: 0 0 0 0;\n",
              "      width: 32px;\n",
              "    }\n",
              "\n",
              "    .colab-df-convert:hover {\n",
              "      background-color: #E2EBFA;\n",
              "      box-shadow: 0px 1px 2px rgba(60, 64, 67, 0.3), 0px 1px 3px 1px rgba(60, 64, 67, 0.15);\n",
              "      fill: #174EA6;\n",
              "    }\n",
              "\n",
              "    [theme=dark] .colab-df-convert {\n",
              "      background-color: #3B4455;\n",
              "      fill: #D2E3FC;\n",
              "    }\n",
              "\n",
              "    [theme=dark] .colab-df-convert:hover {\n",
              "      background-color: #434B5C;\n",
              "      box-shadow: 0px 1px 3px 1px rgba(0, 0, 0, 0.15);\n",
              "      filter: drop-shadow(0px 1px 2px rgba(0, 0, 0, 0.3));\n",
              "      fill: #FFFFFF;\n",
              "    }\n",
              "  </style>\n",
              "\n",
              "      <script>\n",
              "        const buttonEl =\n",
              "          document.querySelector('#df-43405512-8110-4a38-b65f-da42b8412001 button.colab-df-convert');\n",
              "        buttonEl.style.display =\n",
              "          google.colab.kernel.accessAllowed ? 'block' : 'none';\n",
              "\n",
              "        async function convertToInteractive(key) {\n",
              "          const element = document.querySelector('#df-43405512-8110-4a38-b65f-da42b8412001');\n",
              "          const dataTable =\n",
              "            await google.colab.kernel.invokeFunction('convertToInteractive',\n",
              "                                                     [key], {});\n",
              "          if (!dataTable) return;\n",
              "\n",
              "          const docLinkHtml = 'Like what you see? Visit the ' +\n",
              "            '<a target=\"_blank\" href=https://colab.research.google.com/notebooks/data_table.ipynb>data table notebook</a>'\n",
              "            + ' to learn more about interactive tables.';\n",
              "          element.innerHTML = '';\n",
              "          dataTable['output_type'] = 'display_data';\n",
              "          await google.colab.output.renderOutput(dataTable, element);\n",
              "          const docLink = document.createElement('div');\n",
              "          docLink.innerHTML = docLinkHtml;\n",
              "          element.appendChild(docLink);\n",
              "        }\n",
              "      </script>\n",
              "    </div>\n",
              "  </div>\n",
              "  "
            ]
          },
          "metadata": {},
          "execution_count": 29
        }
      ]
    },
    {
      "cell_type": "markdown",
      "source": [
        "### FiveThirtyEight Ratings\n",
        "- `538ratingW` is the rating of the winning team during the season\n",
        "- `538ratingL` is the rating of the losing team during the season"
      ],
      "metadata": {
        "papermill": {
          "duration": 0.077761,
          "end_time": "2022-02-25T19:24:51.230059",
          "exception": false,
          "start_time": "2022-02-25T19:24:51.152298",
          "status": "completed"
        },
        "tags": [],
        "id": "aOospE_K9wWi"
      }
    },
    {
      "cell_type": "code",
      "source": [
        "# df = pd.merge(\n",
        "#     df,\n",
        "#     df_538,\n",
        "#     how='left',\n",
        "#     left_on=['Season', 'WTeamID'],\n",
        "#     right_on=['Season', 'TeamID']\n",
        "# ).drop('TeamID', axis=1).rename(columns={'538rating': '538ratingW'})"
      ],
      "metadata": {
        "papermill": {
          "duration": 0.090579,
          "end_time": "2022-02-25T19:24:51.400091",
          "exception": false,
          "start_time": "2022-02-25T19:24:51.309512",
          "status": "completed"
        },
        "tags": [],
        "execution": {
          "iopub.status.busy": "2023-02-16T13:37:18.607994Z",
          "iopub.execute_input": "2023-02-16T13:37:18.60888Z",
          "iopub.status.idle": "2023-02-16T13:37:18.617274Z",
          "shell.execute_reply.started": "2023-02-16T13:37:18.608836Z",
          "shell.execute_reply": "2023-02-16T13:37:18.615975Z"
        },
        "trusted": true,
        "id": "TCqalFpp9wWj"
      },
      "execution_count": 30,
      "outputs": []
    },
    {
      "cell_type": "code",
      "source": [
        "# df = pd.merge(\n",
        "#     df, \n",
        "#     df_538, \n",
        "#     how='left', \n",
        "#     left_on=['Season', 'LTeamID'], \n",
        "#     right_on=['Season', 'TeamID']\n",
        "# ).drop('TeamID', axis=1).rename(columns={'538rating': '538ratingL'})"
      ],
      "metadata": {
        "papermill": {
          "duration": 0.091726,
          "end_time": "2022-02-25T19:24:51.571706",
          "exception": false,
          "start_time": "2022-02-25T19:24:51.47998",
          "status": "completed"
        },
        "tags": [],
        "execution": {
          "iopub.status.busy": "2023-02-16T13:37:18.619183Z",
          "iopub.execute_input": "2023-02-16T13:37:18.619883Z",
          "iopub.status.idle": "2023-02-16T13:37:18.629871Z",
          "shell.execute_reply.started": "2023-02-16T13:37:18.619842Z",
          "shell.execute_reply": "2023-02-16T13:37:18.628788Z"
        },
        "trusted": true,
        "id": "kjZ2cksl9wWj"
      },
      "execution_count": 31,
      "outputs": []
    },
    {
      "cell_type": "code",
      "source": [
        "# df.head()"
      ],
      "metadata": {
        "papermill": {
          "duration": 0.101694,
          "end_time": "2022-02-25T19:24:51.752484",
          "exception": false,
          "start_time": "2022-02-25T19:24:51.65079",
          "status": "completed"
        },
        "tags": [],
        "execution": {
          "iopub.status.busy": "2023-02-16T13:37:18.631295Z",
          "iopub.execute_input": "2023-02-16T13:37:18.631895Z",
          "iopub.status.idle": "2023-02-16T13:37:18.642455Z",
          "shell.execute_reply.started": "2023-02-16T13:37:18.631854Z",
          "shell.execute_reply": "2023-02-16T13:37:18.641141Z"
        },
        "trusted": true,
        "id": "c08k0ryA9wWj"
      },
      "execution_count": 32,
      "outputs": []
    },
    {
      "cell_type": "markdown",
      "source": [
        "### Add symetrical\n",
        "- Right now our data only consists of won matches\n",
        "- We duplicate our data, get rid of the winner loser "
      ],
      "metadata": {
        "papermill": {
          "duration": 0.077948,
          "end_time": "2022-02-25T19:24:51.910157",
          "exception": false,
          "start_time": "2022-02-25T19:24:51.832209",
          "status": "completed"
        },
        "tags": [],
        "id": "YlwqMRu69wWj"
      }
    },
    {
      "cell_type": "code",
      "source": [
        "def add_loosing_matches(df):\n",
        "    win_rename = {\n",
        "        \"WTeamID\": \"TeamIdA\", \n",
        "        \"WScore\" : \"ScoreA\", \n",
        "        \"LTeamID\" : \"TeamIdB\",\n",
        "        \"LScore\": \"ScoreB\",\n",
        "     }\n",
        "    win_rename.update({c : c[:-1] + \"A\" for c in df.columns if c.endswith('W')})\n",
        "    win_rename.update({c : c[:-1] + \"B\" for c in df.columns if c.endswith('L')})\n",
        "    \n",
        "    lose_rename = {\n",
        "        \"WTeamID\": \"TeamIdB\", \n",
        "        \"WScore\" : \"ScoreB\", \n",
        "        \"LTeamID\" : \"TeamIdA\",\n",
        "        \"LScore\": \"ScoreA\",\n",
        "    }\n",
        "    lose_rename.update({c : c[:-1] + \"B\" for c in df.columns if c.endswith('W')})\n",
        "    lose_rename.update({c : c[:-1] + \"A\" for c in df.columns if c.endswith('L')})\n",
        "    \n",
        "    win_df = df.copy()\n",
        "    lose_df = df.copy()\n",
        "    \n",
        "    win_df = win_df.rename(columns=win_rename)\n",
        "    lose_df = lose_df.rename(columns=lose_rename)\n",
        "    \n",
        "    return pd.concat([win_df, lose_df], axis=0, sort=False)"
      ],
      "metadata": {
        "papermill": {
          "duration": 0.092113,
          "end_time": "2022-02-25T19:24:52.081211",
          "exception": false,
          "start_time": "2022-02-25T19:24:51.989098",
          "status": "completed"
        },
        "tags": [],
        "execution": {
          "iopub.status.busy": "2023-02-16T13:37:18.643835Z",
          "iopub.execute_input": "2023-02-16T13:37:18.644794Z",
          "iopub.status.idle": "2023-02-16T13:37:18.656106Z",
          "shell.execute_reply.started": "2023-02-16T13:37:18.644752Z",
          "shell.execute_reply": "2023-02-16T13:37:18.654718Z"
        },
        "trusted": true,
        "id": "v0lIUhuW9wWj"
      },
      "execution_count": 33,
      "outputs": []
    },
    {
      "cell_type": "code",
      "source": [
        "df = add_loosing_matches(df)"
      ],
      "metadata": {
        "papermill": {
          "duration": 0.08852,
          "end_time": "2022-02-25T19:24:52.250164",
          "exception": false,
          "start_time": "2022-02-25T19:24:52.161644",
          "status": "completed"
        },
        "tags": [],
        "execution": {
          "iopub.status.busy": "2023-02-16T13:37:19.878543Z",
          "iopub.execute_input": "2023-02-16T13:37:19.879054Z",
          "iopub.status.idle": "2023-02-16T13:37:19.888404Z",
          "shell.execute_reply.started": "2023-02-16T13:37:19.879009Z",
          "shell.execute_reply": "2023-02-16T13:37:19.887171Z"
        },
        "trusted": true,
        "id": "nGPKEq6l9wWk"
      },
      "execution_count": 34,
      "outputs": []
    },
    {
      "cell_type": "code",
      "source": [
        "df.head()"
      ],
      "metadata": {
        "papermill": {
          "duration": 0.100334,
          "end_time": "2022-02-25T19:24:52.429251",
          "exception": false,
          "start_time": "2022-02-25T19:24:52.328917",
          "status": "completed"
        },
        "tags": [],
        "execution": {
          "iopub.status.busy": "2023-02-16T13:37:20.067576Z",
          "iopub.execute_input": "2023-02-16T13:37:20.068047Z",
          "iopub.status.idle": "2023-02-16T13:37:20.084054Z",
          "shell.execute_reply.started": "2023-02-16T13:37:20.068009Z",
          "shell.execute_reply": "2023-02-16T13:37:20.083166Z"
        },
        "trusted": true,
        "colab": {
          "base_uri": "https://localhost:8080/",
          "height": 206
        },
        "id": "7yH4j9zu9wWk",
        "outputId": "e3fb886e-f764-4e58-cf69-0e5044318738"
      },
      "execution_count": 35,
      "outputs": [
        {
          "output_type": "execute_result",
          "data": {
            "text/plain": [
              "   Season  DayNum  TeamIdA  ScoreA  TeamIdB  ScoreB  SeedA  SeedB  WinRatioA  \\\n",
              "0    2016     137     3107      61     3196      59     12      5   0.870968   \n",
              "1    2016     137     3113      74     3308      52      2     15   0.806452   \n",
              "2    2016     137     3120      68     3385      57      9      8   0.612903   \n",
              "3    2016     137     3124      89     3225      59      1     16   0.970588   \n",
              "4    2016     137     3177      97     3241      67      6     11   0.757576   \n",
              "\n",
              "     GapAvgA  WinRatioB    GapAvgB  \n",
              "0  18.677419   0.733333   8.700000  \n",
              "1   9.258065   0.857143   8.964286  \n",
              "2   3.032258   0.718750   6.812500  \n",
              "3  24.617647   0.709677  10.612903  \n",
              "4  16.272727   0.843750  15.406250  "
            ],
            "text/html": [
              "\n",
              "  <div id=\"df-4d4eabdd-b623-4add-bdb4-d974c55c3d78\">\n",
              "    <div class=\"colab-df-container\">\n",
              "      <div>\n",
              "<style scoped>\n",
              "    .dataframe tbody tr th:only-of-type {\n",
              "        vertical-align: middle;\n",
              "    }\n",
              "\n",
              "    .dataframe tbody tr th {\n",
              "        vertical-align: top;\n",
              "    }\n",
              "\n",
              "    .dataframe thead th {\n",
              "        text-align: right;\n",
              "    }\n",
              "</style>\n",
              "<table border=\"1\" class=\"dataframe\">\n",
              "  <thead>\n",
              "    <tr style=\"text-align: right;\">\n",
              "      <th></th>\n",
              "      <th>Season</th>\n",
              "      <th>DayNum</th>\n",
              "      <th>TeamIdA</th>\n",
              "      <th>ScoreA</th>\n",
              "      <th>TeamIdB</th>\n",
              "      <th>ScoreB</th>\n",
              "      <th>SeedA</th>\n",
              "      <th>SeedB</th>\n",
              "      <th>WinRatioA</th>\n",
              "      <th>GapAvgA</th>\n",
              "      <th>WinRatioB</th>\n",
              "      <th>GapAvgB</th>\n",
              "    </tr>\n",
              "  </thead>\n",
              "  <tbody>\n",
              "    <tr>\n",
              "      <th>0</th>\n",
              "      <td>2016</td>\n",
              "      <td>137</td>\n",
              "      <td>3107</td>\n",
              "      <td>61</td>\n",
              "      <td>3196</td>\n",
              "      <td>59</td>\n",
              "      <td>12</td>\n",
              "      <td>5</td>\n",
              "      <td>0.870968</td>\n",
              "      <td>18.677419</td>\n",
              "      <td>0.733333</td>\n",
              "      <td>8.700000</td>\n",
              "    </tr>\n",
              "    <tr>\n",
              "      <th>1</th>\n",
              "      <td>2016</td>\n",
              "      <td>137</td>\n",
              "      <td>3113</td>\n",
              "      <td>74</td>\n",
              "      <td>3308</td>\n",
              "      <td>52</td>\n",
              "      <td>2</td>\n",
              "      <td>15</td>\n",
              "      <td>0.806452</td>\n",
              "      <td>9.258065</td>\n",
              "      <td>0.857143</td>\n",
              "      <td>8.964286</td>\n",
              "    </tr>\n",
              "    <tr>\n",
              "      <th>2</th>\n",
              "      <td>2016</td>\n",
              "      <td>137</td>\n",
              "      <td>3120</td>\n",
              "      <td>68</td>\n",
              "      <td>3385</td>\n",
              "      <td>57</td>\n",
              "      <td>9</td>\n",
              "      <td>8</td>\n",
              "      <td>0.612903</td>\n",
              "      <td>3.032258</td>\n",
              "      <td>0.718750</td>\n",
              "      <td>6.812500</td>\n",
              "    </tr>\n",
              "    <tr>\n",
              "      <th>3</th>\n",
              "      <td>2016</td>\n",
              "      <td>137</td>\n",
              "      <td>3124</td>\n",
              "      <td>89</td>\n",
              "      <td>3225</td>\n",
              "      <td>59</td>\n",
              "      <td>1</td>\n",
              "      <td>16</td>\n",
              "      <td>0.970588</td>\n",
              "      <td>24.617647</td>\n",
              "      <td>0.709677</td>\n",
              "      <td>10.612903</td>\n",
              "    </tr>\n",
              "    <tr>\n",
              "      <th>4</th>\n",
              "      <td>2016</td>\n",
              "      <td>137</td>\n",
              "      <td>3177</td>\n",
              "      <td>97</td>\n",
              "      <td>3241</td>\n",
              "      <td>67</td>\n",
              "      <td>6</td>\n",
              "      <td>11</td>\n",
              "      <td>0.757576</td>\n",
              "      <td>16.272727</td>\n",
              "      <td>0.843750</td>\n",
              "      <td>15.406250</td>\n",
              "    </tr>\n",
              "  </tbody>\n",
              "</table>\n",
              "</div>\n",
              "      <button class=\"colab-df-convert\" onclick=\"convertToInteractive('df-4d4eabdd-b623-4add-bdb4-d974c55c3d78')\"\n",
              "              title=\"Convert this dataframe to an interactive table.\"\n",
              "              style=\"display:none;\">\n",
              "        \n",
              "  <svg xmlns=\"http://www.w3.org/2000/svg\" height=\"24px\"viewBox=\"0 0 24 24\"\n",
              "       width=\"24px\">\n",
              "    <path d=\"M0 0h24v24H0V0z\" fill=\"none\"/>\n",
              "    <path d=\"M18.56 5.44l.94 2.06.94-2.06 2.06-.94-2.06-.94-.94-2.06-.94 2.06-2.06.94zm-11 1L8.5 8.5l.94-2.06 2.06-.94-2.06-.94L8.5 2.5l-.94 2.06-2.06.94zm10 10l.94 2.06.94-2.06 2.06-.94-2.06-.94-.94-2.06-.94 2.06-2.06.94z\"/><path d=\"M17.41 7.96l-1.37-1.37c-.4-.4-.92-.59-1.43-.59-.52 0-1.04.2-1.43.59L10.3 9.45l-7.72 7.72c-.78.78-.78 2.05 0 2.83L4 21.41c.39.39.9.59 1.41.59.51 0 1.02-.2 1.41-.59l7.78-7.78 2.81-2.81c.8-.78.8-2.07 0-2.86zM5.41 20L4 18.59l7.72-7.72 1.47 1.35L5.41 20z\"/>\n",
              "  </svg>\n",
              "      </button>\n",
              "      \n",
              "  <style>\n",
              "    .colab-df-container {\n",
              "      display:flex;\n",
              "      flex-wrap:wrap;\n",
              "      gap: 12px;\n",
              "    }\n",
              "\n",
              "    .colab-df-convert {\n",
              "      background-color: #E8F0FE;\n",
              "      border: none;\n",
              "      border-radius: 50%;\n",
              "      cursor: pointer;\n",
              "      display: none;\n",
              "      fill: #1967D2;\n",
              "      height: 32px;\n",
              "      padding: 0 0 0 0;\n",
              "      width: 32px;\n",
              "    }\n",
              "\n",
              "    .colab-df-convert:hover {\n",
              "      background-color: #E2EBFA;\n",
              "      box-shadow: 0px 1px 2px rgba(60, 64, 67, 0.3), 0px 1px 3px 1px rgba(60, 64, 67, 0.15);\n",
              "      fill: #174EA6;\n",
              "    }\n",
              "\n",
              "    [theme=dark] .colab-df-convert {\n",
              "      background-color: #3B4455;\n",
              "      fill: #D2E3FC;\n",
              "    }\n",
              "\n",
              "    [theme=dark] .colab-df-convert:hover {\n",
              "      background-color: #434B5C;\n",
              "      box-shadow: 0px 1px 3px 1px rgba(0, 0, 0, 0.15);\n",
              "      filter: drop-shadow(0px 1px 2px rgba(0, 0, 0, 0.3));\n",
              "      fill: #FFFFFF;\n",
              "    }\n",
              "  </style>\n",
              "\n",
              "      <script>\n",
              "        const buttonEl =\n",
              "          document.querySelector('#df-4d4eabdd-b623-4add-bdb4-d974c55c3d78 button.colab-df-convert');\n",
              "        buttonEl.style.display =\n",
              "          google.colab.kernel.accessAllowed ? 'block' : 'none';\n",
              "\n",
              "        async function convertToInteractive(key) {\n",
              "          const element = document.querySelector('#df-4d4eabdd-b623-4add-bdb4-d974c55c3d78');\n",
              "          const dataTable =\n",
              "            await google.colab.kernel.invokeFunction('convertToInteractive',\n",
              "                                                     [key], {});\n",
              "          if (!dataTable) return;\n",
              "\n",
              "          const docLinkHtml = 'Like what you see? Visit the ' +\n",
              "            '<a target=\"_blank\" href=https://colab.research.google.com/notebooks/data_table.ipynb>data table notebook</a>'\n",
              "            + ' to learn more about interactive tables.';\n",
              "          element.innerHTML = '';\n",
              "          dataTable['output_type'] = 'display_data';\n",
              "          await google.colab.output.renderOutput(dataTable, element);\n",
              "          const docLink = document.createElement('div');\n",
              "          docLink.innerHTML = docLinkHtml;\n",
              "          element.appendChild(docLink);\n",
              "        }\n",
              "      </script>\n",
              "    </div>\n",
              "  </div>\n",
              "  "
            ]
          },
          "metadata": {},
          "execution_count": 35
        }
      ]
    },
    {
      "cell_type": "markdown",
      "source": [
        "### Differences\n",
        "- We compute the difference between the team for each feature.\n",
        "- This helps further assessing how better (or worse) team A is from team B"
      ],
      "metadata": {
        "papermill": {
          "duration": 0.07929,
          "end_time": "2022-02-25T19:24:52.590038",
          "exception": false,
          "start_time": "2022-02-25T19:24:52.510748",
          "status": "completed"
        },
        "tags": [],
        "id": "YnTR26l-9wWk"
      }
    },
    {
      "cell_type": "code",
      "source": [
        "cols_to_diff = [\n",
        "    'Seed', 'WinRatio', 'GapAvg', # '538rating'\n",
        "]\n",
        "\n",
        "for col in cols_to_diff:\n",
        "    df[col + 'Diff'] = df[col + 'A'] - df[col + 'B']"
      ],
      "metadata": {
        "papermill": {
          "duration": 0.091577,
          "end_time": "2022-02-25T19:24:52.762452",
          "exception": false,
          "start_time": "2022-02-25T19:24:52.670875",
          "status": "completed"
        },
        "tags": [],
        "execution": {
          "iopub.status.busy": "2023-02-16T13:37:33.812585Z",
          "iopub.execute_input": "2023-02-16T13:37:33.813231Z",
          "iopub.status.idle": "2023-02-16T13:37:33.822903Z",
          "shell.execute_reply.started": "2023-02-16T13:37:33.813176Z",
          "shell.execute_reply": "2023-02-16T13:37:33.821635Z"
        },
        "trusted": true,
        "id": "xfvcAQ7S9wWk"
      },
      "execution_count": 36,
      "outputs": []
    },
    {
      "cell_type": "markdown",
      "source": [
        "## Test Data"
      ],
      "metadata": {
        "papermill": {
          "duration": 0.081156,
          "end_time": "2022-02-25T19:24:52.923612",
          "exception": false,
          "start_time": "2022-02-25T19:24:52.842456",
          "status": "completed"
        },
        "tags": [],
        "id": "APreJZYu9wWk"
      }
    },
    {
      "cell_type": "markdown",
      "source": [
        "### Preparing"
      ],
      "metadata": {
        "papermill": {
          "duration": 0.082519,
          "end_time": "2022-02-25T19:24:53.088318",
          "exception": false,
          "start_time": "2022-02-25T19:24:53.005799",
          "status": "completed"
        },
        "tags": [],
        "id": "dW_nGX929wWl"
      }
    },
    {
      "cell_type": "code",
      "source": [
        "df_test = pd.read_csv(DATA_PATH + \"SampleSubmission2023.csv\")"
      ],
      "metadata": {
        "papermill": {
          "duration": 0.104781,
          "end_time": "2022-02-25T19:24:53.275687",
          "exception": false,
          "start_time": "2022-02-25T19:24:53.170906",
          "status": "completed"
        },
        "tags": [],
        "execution": {
          "iopub.status.busy": "2023-02-16T13:42:56.265271Z",
          "iopub.execute_input": "2023-02-16T13:42:56.265954Z",
          "iopub.status.idle": "2023-02-16T13:42:56.383265Z",
          "shell.execute_reply.started": "2023-02-16T13:42:56.26589Z",
          "shell.execute_reply": "2023-02-16T13:42:56.381929Z"
        },
        "trusted": true,
        "id": "sysI6Xti9wWl"
      },
      "execution_count": 37,
      "outputs": []
    },
    {
      "cell_type": "code",
      "source": [
        "df_test['Season'] = df_test['ID'].apply(lambda x: int(x.split('_')[0]))\n",
        "df_test['TeamIdA'] = df_test['ID'].apply(lambda x: int(x.split('_')[1]))\n",
        "df_test['TeamIdB'] = df_test['ID'].apply(lambda x: int(x.split('_')[2]))"
      ],
      "metadata": {
        "papermill": {
          "duration": 0.131045,
          "end_time": "2022-02-25T19:24:53.488713",
          "exception": false,
          "start_time": "2022-02-25T19:24:53.357668",
          "status": "completed"
        },
        "tags": [],
        "execution": {
          "iopub.status.busy": "2023-02-16T13:42:56.493257Z",
          "iopub.execute_input": "2023-02-16T13:42:56.493776Z",
          "iopub.status.idle": "2023-02-16T13:42:56.849193Z",
          "shell.execute_reply.started": "2023-02-16T13:42:56.493733Z",
          "shell.execute_reply": "2023-02-16T13:42:56.848114Z"
        },
        "trusted": true,
        "id": "NEhn02CP9wWl"
      },
      "execution_count": 38,
      "outputs": []
    },
    {
      "cell_type": "code",
      "source": [
        "df_test.head()"
      ],
      "metadata": {
        "papermill": {
          "duration": 0.094279,
          "end_time": "2022-02-25T19:24:53.663389",
          "exception": false,
          "start_time": "2022-02-25T19:24:53.56911",
          "status": "completed"
        },
        "tags": [],
        "execution": {
          "iopub.status.busy": "2023-02-16T13:42:56.910259Z",
          "iopub.execute_input": "2023-02-16T13:42:56.910977Z",
          "iopub.status.idle": "2023-02-16T13:42:56.926505Z",
          "shell.execute_reply.started": "2023-02-16T13:42:56.910934Z",
          "shell.execute_reply": "2023-02-16T13:42:56.925125Z"
        },
        "trusted": true,
        "colab": {
          "base_uri": "https://localhost:8080/",
          "height": 206
        },
        "id": "iK7srSo49wWl",
        "outputId": "89ed49a4-f53c-43f0-f3bc-719418c0407f"
      },
      "execution_count": 39,
      "outputs": [
        {
          "output_type": "execute_result",
          "data": {
            "text/plain": [
              "               ID  Pred  Season  TeamIdA  TeamIdB\n",
              "0  2023_1101_1102   0.5    2023     1101     1102\n",
              "1  2023_1101_1103   0.5    2023     1101     1103\n",
              "2  2023_1101_1104   0.5    2023     1101     1104\n",
              "3  2023_1101_1105   0.5    2023     1101     1105\n",
              "4  2023_1101_1106   0.5    2023     1101     1106"
            ],
            "text/html": [
              "\n",
              "  <div id=\"df-af85f5d7-52a0-40d1-8211-320adcd90a47\">\n",
              "    <div class=\"colab-df-container\">\n",
              "      <div>\n",
              "<style scoped>\n",
              "    .dataframe tbody tr th:only-of-type {\n",
              "        vertical-align: middle;\n",
              "    }\n",
              "\n",
              "    .dataframe tbody tr th {\n",
              "        vertical-align: top;\n",
              "    }\n",
              "\n",
              "    .dataframe thead th {\n",
              "        text-align: right;\n",
              "    }\n",
              "</style>\n",
              "<table border=\"1\" class=\"dataframe\">\n",
              "  <thead>\n",
              "    <tr style=\"text-align: right;\">\n",
              "      <th></th>\n",
              "      <th>ID</th>\n",
              "      <th>Pred</th>\n",
              "      <th>Season</th>\n",
              "      <th>TeamIdA</th>\n",
              "      <th>TeamIdB</th>\n",
              "    </tr>\n",
              "  </thead>\n",
              "  <tbody>\n",
              "    <tr>\n",
              "      <th>0</th>\n",
              "      <td>2023_1101_1102</td>\n",
              "      <td>0.5</td>\n",
              "      <td>2023</td>\n",
              "      <td>1101</td>\n",
              "      <td>1102</td>\n",
              "    </tr>\n",
              "    <tr>\n",
              "      <th>1</th>\n",
              "      <td>2023_1101_1103</td>\n",
              "      <td>0.5</td>\n",
              "      <td>2023</td>\n",
              "      <td>1101</td>\n",
              "      <td>1103</td>\n",
              "    </tr>\n",
              "    <tr>\n",
              "      <th>2</th>\n",
              "      <td>2023_1101_1104</td>\n",
              "      <td>0.5</td>\n",
              "      <td>2023</td>\n",
              "      <td>1101</td>\n",
              "      <td>1104</td>\n",
              "    </tr>\n",
              "    <tr>\n",
              "      <th>3</th>\n",
              "      <td>2023_1101_1105</td>\n",
              "      <td>0.5</td>\n",
              "      <td>2023</td>\n",
              "      <td>1101</td>\n",
              "      <td>1105</td>\n",
              "    </tr>\n",
              "    <tr>\n",
              "      <th>4</th>\n",
              "      <td>2023_1101_1106</td>\n",
              "      <td>0.5</td>\n",
              "      <td>2023</td>\n",
              "      <td>1101</td>\n",
              "      <td>1106</td>\n",
              "    </tr>\n",
              "  </tbody>\n",
              "</table>\n",
              "</div>\n",
              "      <button class=\"colab-df-convert\" onclick=\"convertToInteractive('df-af85f5d7-52a0-40d1-8211-320adcd90a47')\"\n",
              "              title=\"Convert this dataframe to an interactive table.\"\n",
              "              style=\"display:none;\">\n",
              "        \n",
              "  <svg xmlns=\"http://www.w3.org/2000/svg\" height=\"24px\"viewBox=\"0 0 24 24\"\n",
              "       width=\"24px\">\n",
              "    <path d=\"M0 0h24v24H0V0z\" fill=\"none\"/>\n",
              "    <path d=\"M18.56 5.44l.94 2.06.94-2.06 2.06-.94-2.06-.94-.94-2.06-.94 2.06-2.06.94zm-11 1L8.5 8.5l.94-2.06 2.06-.94-2.06-.94L8.5 2.5l-.94 2.06-2.06.94zm10 10l.94 2.06.94-2.06 2.06-.94-2.06-.94-.94-2.06-.94 2.06-2.06.94z\"/><path d=\"M17.41 7.96l-1.37-1.37c-.4-.4-.92-.59-1.43-.59-.52 0-1.04.2-1.43.59L10.3 9.45l-7.72 7.72c-.78.78-.78 2.05 0 2.83L4 21.41c.39.39.9.59 1.41.59.51 0 1.02-.2 1.41-.59l7.78-7.78 2.81-2.81c.8-.78.8-2.07 0-2.86zM5.41 20L4 18.59l7.72-7.72 1.47 1.35L5.41 20z\"/>\n",
              "  </svg>\n",
              "      </button>\n",
              "      \n",
              "  <style>\n",
              "    .colab-df-container {\n",
              "      display:flex;\n",
              "      flex-wrap:wrap;\n",
              "      gap: 12px;\n",
              "    }\n",
              "\n",
              "    .colab-df-convert {\n",
              "      background-color: #E8F0FE;\n",
              "      border: none;\n",
              "      border-radius: 50%;\n",
              "      cursor: pointer;\n",
              "      display: none;\n",
              "      fill: #1967D2;\n",
              "      height: 32px;\n",
              "      padding: 0 0 0 0;\n",
              "      width: 32px;\n",
              "    }\n",
              "\n",
              "    .colab-df-convert:hover {\n",
              "      background-color: #E2EBFA;\n",
              "      box-shadow: 0px 1px 2px rgba(60, 64, 67, 0.3), 0px 1px 3px 1px rgba(60, 64, 67, 0.15);\n",
              "      fill: #174EA6;\n",
              "    }\n",
              "\n",
              "    [theme=dark] .colab-df-convert {\n",
              "      background-color: #3B4455;\n",
              "      fill: #D2E3FC;\n",
              "    }\n",
              "\n",
              "    [theme=dark] .colab-df-convert:hover {\n",
              "      background-color: #434B5C;\n",
              "      box-shadow: 0px 1px 3px 1px rgba(0, 0, 0, 0.15);\n",
              "      filter: drop-shadow(0px 1px 2px rgba(0, 0, 0, 0.3));\n",
              "      fill: #FFFFFF;\n",
              "    }\n",
              "  </style>\n",
              "\n",
              "      <script>\n",
              "        const buttonEl =\n",
              "          document.querySelector('#df-af85f5d7-52a0-40d1-8211-320adcd90a47 button.colab-df-convert');\n",
              "        buttonEl.style.display =\n",
              "          google.colab.kernel.accessAllowed ? 'block' : 'none';\n",
              "\n",
              "        async function convertToInteractive(key) {\n",
              "          const element = document.querySelector('#df-af85f5d7-52a0-40d1-8211-320adcd90a47');\n",
              "          const dataTable =\n",
              "            await google.colab.kernel.invokeFunction('convertToInteractive',\n",
              "                                                     [key], {});\n",
              "          if (!dataTable) return;\n",
              "\n",
              "          const docLinkHtml = 'Like what you see? Visit the ' +\n",
              "            '<a target=\"_blank\" href=https://colab.research.google.com/notebooks/data_table.ipynb>data table notebook</a>'\n",
              "            + ' to learn more about interactive tables.';\n",
              "          element.innerHTML = '';\n",
              "          dataTable['output_type'] = 'display_data';\n",
              "          await google.colab.output.renderOutput(dataTable, element);\n",
              "          const docLink = document.createElement('div');\n",
              "          docLink.innerHTML = docLinkHtml;\n",
              "          element.appendChild(docLink);\n",
              "        }\n",
              "      </script>\n",
              "    </div>\n",
              "  </div>\n",
              "  "
            ]
          },
          "metadata": {},
          "execution_count": 39
        }
      ]
    },
    {
      "cell_type": "markdown",
      "source": [
        "### Seeds\n",
        "- Seeds are not released yet, so I fill missing values with \"W01\""
      ],
      "metadata": {
        "papermill": {
          "duration": 0.079625,
          "end_time": "2022-02-25T19:24:53.824638",
          "exception": false,
          "start_time": "2022-02-25T19:24:53.745013",
          "status": "completed"
        },
        "tags": [],
        "id": "omP9F8t39wWl"
      }
    },
    {
      "cell_type": "code",
      "source": [
        "df_test = pd.merge(\n",
        "    df_test,\n",
        "    df_seeds,\n",
        "    how='left',\n",
        "    left_on=['Season', 'TeamIdA'],\n",
        "    right_on=['Season', 'TeamID']\n",
        ").drop('TeamID', axis=1).rename(columns={'Seed': 'SeedA'}).fillna('W01')"
      ],
      "metadata": {
        "papermill": {
          "duration": 0.098431,
          "end_time": "2022-02-25T19:24:54.004514",
          "exception": false,
          "start_time": "2022-02-25T19:24:53.906083",
          "status": "completed"
        },
        "tags": [],
        "execution": {
          "iopub.status.busy": "2023-02-16T13:42:57.654181Z",
          "iopub.execute_input": "2023-02-16T13:42:57.655636Z",
          "iopub.status.idle": "2023-02-16T13:42:57.727833Z",
          "shell.execute_reply.started": "2023-02-16T13:42:57.655573Z",
          "shell.execute_reply": "2023-02-16T13:42:57.726378Z"
        },
        "trusted": true,
        "id": "qlKGnEJZ9wWm"
      },
      "execution_count": 40,
      "outputs": []
    },
    {
      "cell_type": "code",
      "source": [
        "df_test = pd.merge(\n",
        "    df_test, \n",
        "    df_seeds, \n",
        "    how='left', \n",
        "    left_on=['Season', 'TeamIdB'], \n",
        "    right_on=['Season', 'TeamID']\n",
        ").drop('TeamID', axis=1).rename(columns={'Seed': 'SeedB'}).fillna('W01')"
      ],
      "metadata": {
        "papermill": {
          "duration": 0.095495,
          "end_time": "2022-02-25T19:24:54.182199",
          "exception": false,
          "start_time": "2022-02-25T19:24:54.086704",
          "status": "completed"
        },
        "tags": [],
        "execution": {
          "iopub.status.busy": "2023-02-16T13:42:58.129032Z",
          "iopub.execute_input": "2023-02-16T13:42:58.129583Z",
          "iopub.status.idle": "2023-02-16T13:42:58.221658Z",
          "shell.execute_reply.started": "2023-02-16T13:42:58.129529Z",
          "shell.execute_reply": "2023-02-16T13:42:58.22045Z"
        },
        "trusted": true,
        "id": "f7ELEApc9wWm"
      },
      "execution_count": 41,
      "outputs": []
    },
    {
      "cell_type": "code",
      "source": [
        "df_test['SeedA'] = df_test['SeedA'].apply(treat_seed)\n",
        "df_test['SeedB'] = df_test['SeedB'].apply(treat_seed)"
      ],
      "metadata": {
        "papermill": {
          "duration": 0.147913,
          "end_time": "2022-02-25T19:24:54.412468",
          "exception": false,
          "start_time": "2022-02-25T19:24:54.264555",
          "status": "completed"
        },
        "tags": [],
        "execution": {
          "iopub.status.busy": "2023-02-16T13:43:02.124667Z",
          "iopub.execute_input": "2023-02-16T13:43:02.125212Z",
          "iopub.status.idle": "2023-02-16T13:43:02.637681Z",
          "shell.execute_reply.started": "2023-02-16T13:43:02.125165Z",
          "shell.execute_reply": "2023-02-16T13:43:02.636696Z"
        },
        "trusted": true,
        "id": "oDT454WZ9wWm"
      },
      "execution_count": 42,
      "outputs": []
    },
    {
      "cell_type": "markdown",
      "source": [
        "### Season Stats"
      ],
      "metadata": {
        "papermill": {
          "duration": 0.080797,
          "end_time": "2022-02-25T19:24:54.576105",
          "exception": false,
          "start_time": "2022-02-25T19:24:54.495308",
          "status": "completed"
        },
        "tags": [],
        "id": "zU8IHXjW9wWm"
      }
    },
    {
      "cell_type": "code",
      "source": [
        "df_test = pd.merge(\n",
        "    df_test,\n",
        "    df_features_season,\n",
        "    how='left',\n",
        "    left_on=['Season', 'TeamIdA'],\n",
        "    right_on=['Season', 'TeamID']\n",
        ").rename(columns={\n",
        "    'NumWins': 'NumWinsA',\n",
        "    'NumLosses': 'NumLossesA',\n",
        "    'GapWins': 'GapWinsA',\n",
        "    'GapLosses': 'GapLossesA',\n",
        "    'WinRatio': 'WinRatioA',\n",
        "    'GapAvg': 'GapAvgA',\n",
        "}).drop(columns='TeamID', axis=1)"
      ],
      "metadata": {
        "papermill": {
          "duration": 0.130771,
          "end_time": "2022-02-25T19:24:54.789379",
          "exception": false,
          "start_time": "2022-02-25T19:24:54.658608",
          "status": "completed"
        },
        "tags": [],
        "execution": {
          "iopub.status.busy": "2023-02-16T13:43:06.215642Z",
          "iopub.execute_input": "2023-02-16T13:43:06.216126Z",
          "iopub.status.idle": "2023-02-16T13:43:06.295994Z",
          "shell.execute_reply.started": "2023-02-16T13:43:06.216085Z",
          "shell.execute_reply": "2023-02-16T13:43:06.294388Z"
        },
        "trusted": true,
        "id": "YQGGDB449wWm"
      },
      "execution_count": 43,
      "outputs": []
    },
    {
      "cell_type": "code",
      "source": [
        "df_test = pd.merge(\n",
        "    df_test,\n",
        "    df_features_season,\n",
        "    how='left',\n",
        "    left_on=['Season', 'TeamIdB'],\n",
        "    right_on=['Season', 'TeamID']\n",
        ").rename(columns={\n",
        "    'NumWins': 'NumWinsB',\n",
        "    'NumLosses': 'NumLossesB',\n",
        "    'GapWins': 'GapWinsB',\n",
        "    'GapLosses': 'GapLossesB',\n",
        "    'WinRatio': 'WinRatioB',\n",
        "    'GapAvg': 'GapAvgB',\n",
        "}).drop(columns='TeamID', axis=1)"
      ],
      "metadata": {
        "papermill": {
          "duration": 0.101794,
          "end_time": "2022-02-25T19:24:54.972541",
          "exception": false,
          "start_time": "2022-02-25T19:24:54.870747",
          "status": "completed"
        },
        "tags": [],
        "execution": {
          "iopub.status.busy": "2023-02-16T13:43:06.432871Z",
          "iopub.execute_input": "2023-02-16T13:43:06.433391Z",
          "iopub.status.idle": "2023-02-16T13:43:06.507526Z",
          "shell.execute_reply.started": "2023-02-16T13:43:06.43335Z",
          "shell.execute_reply": "2023-02-16T13:43:06.505563Z"
        },
        "trusted": true,
        "id": "s0MtPQKF9wWn"
      },
      "execution_count": 44,
      "outputs": []
    },
    {
      "cell_type": "markdown",
      "source": [
        "### Ratings"
      ],
      "metadata": {
        "papermill": {
          "duration": 0.081398,
          "end_time": "2022-02-25T19:24:55.135113",
          "exception": false,
          "start_time": "2022-02-25T19:24:55.053715",
          "status": "completed"
        },
        "tags": [],
        "id": "mei6KZTd9wWn"
      }
    },
    {
      "cell_type": "code",
      "source": [
        "# df_test = pd.merge(\n",
        "#     df_test,\n",
        "#     df_538,\n",
        "#     how='left',\n",
        "#     left_on=['Season', 'TeamIdA'],\n",
        "#     right_on=['Season', 'TeamID']\n",
        "# ).drop('TeamID', axis=1).rename(columns={'538rating': '538ratingA'})"
      ],
      "metadata": {
        "papermill": {
          "duration": 0.096184,
          "end_time": "2022-02-25T19:24:55.312582",
          "exception": false,
          "start_time": "2022-02-25T19:24:55.216398",
          "status": "completed"
        },
        "tags": [],
        "execution": {
          "iopub.status.busy": "2023-02-16T13:43:10.875533Z",
          "iopub.execute_input": "2023-02-16T13:43:10.876013Z",
          "iopub.status.idle": "2023-02-16T13:43:10.881115Z",
          "shell.execute_reply.started": "2023-02-16T13:43:10.875973Z",
          "shell.execute_reply": "2023-02-16T13:43:10.879949Z"
        },
        "trusted": true,
        "id": "5PZ7b4YZ9wWn"
      },
      "execution_count": 45,
      "outputs": []
    },
    {
      "cell_type": "code",
      "source": [
        "# df_test = pd.merge(\n",
        "#     df_test,\n",
        "#     df_538,\n",
        "#     how='left',\n",
        "#     left_on=['Season', 'TeamIdB'],\n",
        "#     right_on=['Season', 'TeamID']\n",
        "# ).drop('TeamID', axis=1).rename(columns={'538rating': '538ratingB'})"
      ],
      "metadata": {
        "papermill": {
          "duration": 0.098851,
          "end_time": "2022-02-25T19:24:55.490645",
          "exception": false,
          "start_time": "2022-02-25T19:24:55.391794",
          "status": "completed"
        },
        "tags": [],
        "execution": {
          "iopub.status.busy": "2023-02-16T13:43:12.708241Z",
          "iopub.execute_input": "2023-02-16T13:43:12.708726Z",
          "iopub.status.idle": "2023-02-16T13:43:12.714197Z",
          "shell.execute_reply.started": "2023-02-16T13:43:12.708686Z",
          "shell.execute_reply": "2023-02-16T13:43:12.712866Z"
        },
        "trusted": true,
        "id": "cjj4S4Pc9wWn"
      },
      "execution_count": 46,
      "outputs": []
    },
    {
      "cell_type": "markdown",
      "source": [
        "### Differences"
      ],
      "metadata": {
        "papermill": {
          "duration": 0.080145,
          "end_time": "2022-02-25T19:24:55.651626",
          "exception": false,
          "start_time": "2022-02-25T19:24:55.571481",
          "status": "completed"
        },
        "tags": [],
        "id": "_Cd3oy479wWo"
      }
    },
    {
      "cell_type": "code",
      "source": [
        "for col in cols_to_diff:\n",
        "    df_test[col + 'Diff'] = df_test[col + 'A'] - df_test[col + 'B']"
      ],
      "metadata": {
        "papermill": {
          "duration": 0.093307,
          "end_time": "2022-02-25T19:24:55.827104",
          "exception": false,
          "start_time": "2022-02-25T19:24:55.733797",
          "status": "completed"
        },
        "tags": [],
        "execution": {
          "iopub.status.busy": "2023-02-16T13:43:19.232871Z",
          "iopub.execute_input": "2023-02-16T13:43:19.23403Z",
          "iopub.status.idle": "2023-02-16T13:43:19.244532Z",
          "shell.execute_reply.started": "2023-02-16T13:43:19.233981Z",
          "shell.execute_reply": "2023-02-16T13:43:19.243455Z"
        },
        "trusted": true,
        "id": "9ilebF7H9wWo"
      },
      "execution_count": 47,
      "outputs": []
    },
    {
      "cell_type": "markdown",
      "source": [
        "## Target"
      ],
      "metadata": {
        "papermill": {
          "duration": 0.081221,
          "end_time": "2022-02-25T19:24:56.179012",
          "exception": false,
          "start_time": "2022-02-25T19:24:56.097791",
          "status": "completed"
        },
        "tags": [],
        "id": "Uc1EmTWq9wWo"
      }
    },
    {
      "cell_type": "code",
      "source": [
        "df['ScoreDiff'] = df['ScoreA'] - df['ScoreB']\n",
        "df['WinA'] = (df['ScoreDiff'] > 0).astype(int)"
      ],
      "metadata": {
        "papermill": {
          "duration": 0.091844,
          "end_time": "2022-02-25T19:24:56.352459",
          "exception": false,
          "start_time": "2022-02-25T19:24:56.260615",
          "status": "completed"
        },
        "tags": [],
        "execution": {
          "iopub.status.busy": "2023-02-16T13:43:33.62089Z",
          "iopub.execute_input": "2023-02-16T13:43:33.621383Z",
          "iopub.status.idle": "2023-02-16T13:43:33.630799Z",
          "shell.execute_reply.started": "2023-02-16T13:43:33.621344Z",
          "shell.execute_reply": "2023-02-16T13:43:33.629839Z"
        },
        "trusted": true,
        "id": "868kaasQ9wWo"
      },
      "execution_count": 48,
      "outputs": []
    },
    {
      "cell_type": "markdown",
      "source": [
        "# Modeling"
      ],
      "metadata": {
        "papermill": {
          "duration": 0.081095,
          "end_time": "2022-02-25T19:24:56.515487",
          "exception": false,
          "start_time": "2022-02-25T19:24:56.434392",
          "status": "completed"
        },
        "tags": [],
        "id": "OD5BloWf9wWo"
      }
    },
    {
      "cell_type": "code",
      "source": [
        "features = [\n",
        "    \"SeedA\", \"SeedB\", 'WinRatioA', 'GapAvgA', 'WinRatioB', 'GapAvgB', 'SeedDiff', 'WinRatioDiff', 'GapAvgDiff'\n",
        "]"
      ],
      "metadata": {
        "execution": {
          "iopub.status.busy": "2023-02-16T13:58:20.844905Z",
          "iopub.execute_input": "2023-02-16T13:58:20.845414Z",
          "iopub.status.idle": "2023-02-16T13:58:20.852024Z",
          "shell.execute_reply.started": "2023-02-16T13:58:20.845374Z",
          "shell.execute_reply": "2023-02-16T13:58:20.850509Z"
        },
        "trusted": true,
        "id": "bMAuADF09wWo"
      },
      "execution_count": 49,
      "outputs": []
    },
    {
      "cell_type": "code",
      "source": [
        "# features = [\n",
        "#     'SeedDiff',\n",
        "# #     '538ratingDiff',\n",
        "#     'WinRatioDiff', \n",
        "#     'GapAvgDiff', \n",
        "# ]"
      ],
      "metadata": {
        "papermill": {
          "duration": 0.088664,
          "end_time": "2022-02-25T19:24:56.685549",
          "exception": false,
          "start_time": "2022-02-25T19:24:56.596885",
          "status": "completed"
        },
        "tags": [],
        "execution": {
          "iopub.status.busy": "2023-02-16T13:58:23.403984Z",
          "iopub.execute_input": "2023-02-16T13:58:23.404488Z",
          "iopub.status.idle": "2023-02-16T13:58:23.410201Z",
          "shell.execute_reply.started": "2023-02-16T13:58:23.404443Z",
          "shell.execute_reply": "2023-02-16T13:58:23.408417Z"
        },
        "trusted": true,
        "id": "7-JWI2I99wWp"
      },
      "execution_count": 50,
      "outputs": []
    },
    {
      "cell_type": "code",
      "source": [
        "def rescale(features, df_train, df_val, df_test=None):\n",
        "    min_ = df_train[features].min()\n",
        "    max_ = df_train[features].max()\n",
        "    \n",
        "    df_train[features] = (df_train[features] - min_) / (max_ - min_)\n",
        "    df_val[features] = (df_val[features] - min_) / (max_ - min_)\n",
        "    \n",
        "    if df_test is not None:\n",
        "        df_test[features] = (df_test[features] - min_) / (max_ - min_)\n",
        "        \n",
        "    return df_train, df_val, df_test"
      ],
      "metadata": {
        "papermill": {
          "duration": 0.092196,
          "end_time": "2022-02-25T19:24:56.859301",
          "exception": false,
          "start_time": "2022-02-25T19:24:56.767105",
          "status": "completed"
        },
        "tags": [],
        "execution": {
          "iopub.status.busy": "2023-02-16T13:58:23.584486Z",
          "iopub.execute_input": "2023-02-16T13:58:23.585396Z",
          "iopub.status.idle": "2023-02-16T13:58:23.594384Z",
          "shell.execute_reply.started": "2023-02-16T13:58:23.585346Z",
          "shell.execute_reply": "2023-02-16T13:58:23.592967Z"
        },
        "trusted": true,
        "id": "Nt59EDlG9wWq"
      },
      "execution_count": 51,
      "outputs": []
    },
    {
      "cell_type": "markdown",
      "source": [
        "### Cross Validation\n",
        "- Validate on season `n`, for `n` in the 3 last seasons. \n",
        "- Train on earlier seasons. First available season is 2016 because of the FiveThirtyEight ratings.\n",
        "- Pipeline support classification (predict the team that wins) and regression (predict the score gap), but classification worked better on CV."
      ],
      "metadata": {
        "papermill": {
          "duration": 0.082561,
          "end_time": "2022-02-25T19:24:57.024985",
          "exception": false,
          "start_time": "2022-02-25T19:24:56.942424",
          "status": "completed"
        },
        "tags": [],
        "id": "YDh9Px-R9wWq"
      }
    },
    {
      "cell_type": "code",
      "source": [
        "def kfold(df, df_test_=None, plot=False, verbose=0, mode=\"reg\"):\n",
        "    seasons = df['Season'].unique()\n",
        "    cvs = []\n",
        "    pred_tests = []\n",
        "    target = \"ScoreDiff\" if mode == \"reg\" else \"WinA\"\n",
        "    \n",
        "    for season in seasons[1:]:\n",
        "        if verbose:\n",
        "            print(f'\\nValidating on season {season}')\n",
        "        \n",
        "        df_train = df[df['Season'] < season].reset_index(drop=True).copy()\n",
        "        df_val = df[df['Season'] == season].reset_index(drop=True).copy()\n",
        "        df_test = df_test_.copy()\n",
        "        \n",
        "        df_train, df_val, df_test = rescale(features, df_train, df_val, df_test)\n",
        "        \n",
        "        if mode == \"reg\":\n",
        "#             model = LinearRegression()\n",
        "            model = ElasticNet(alpha=1, l1_ratio=0.5)\n",
        "        else:\n",
        "            model = LogisticRegression(C=1)\n",
        "\n",
        "        model.fit(df_train[features], df_train[target])\n",
        "        \n",
        "        if mode == \"reg\":\n",
        "            pred = model.predict(df_val[features])\n",
        "        else:\n",
        "            pred = model.predict_proba(df_val[features])[:, 1]\n",
        "        \n",
        "        if df_test is not None:\n",
        "            if mode == \"reg\":\n",
        "                pred_test = model.predict(df_test[features])\n",
        "                \n",
        "#                 print( pred_test.max() - pred_test.min())\n",
        "                pred_test = (pred_test - pred_test.min()) / (pred_test.max() - pred_test.min())\n",
        "            else:\n",
        "                pred_test = model.predict_proba(df_test[features])[:, 1]\n",
        "                \n",
        "            pred_tests.append(pred_test)\n",
        "            \n",
        "        if plot:\n",
        "            plt.figure(figsize=(15, 6))\n",
        "            plt.subplot(1, 2, 1)\n",
        "            plt.scatter(pred, df_val['ScoreDiff'].values, s=5)\n",
        "            plt.title('Prediction vs Score Diff')\n",
        "            plt.grid(True)\n",
        "            plt.subplot(1, 2, 2)\n",
        "            sns.histplot(pred, bins=20)\n",
        "            plt.title('Predictions probability repartition')\n",
        "            plt.show()\n",
        "        \n",
        "        pred = (pred - pred.min()) / (pred.max() - pred.min())\n",
        "        pred = np.clip(pred, 0, 1)\n",
        "\n",
        "        score = ((df_val['WinA'].values - pred) ** 2).mean()\n",
        "        cvs.append(score)\n",
        "\n",
        "        if verbose:\n",
        "            print(f'\\t -> Scored {score:.3f}')\n",
        "        \n",
        "    print(f'\\n Local CV is {np.mean(cvs):.3f}')\n",
        "    \n",
        "    return pred_tests"
      ],
      "metadata": {
        "papermill": {
          "duration": 0.100469,
          "end_time": "2022-02-25T19:24:57.209507",
          "exception": false,
          "start_time": "2022-02-25T19:24:57.109038",
          "status": "completed"
        },
        "tags": [],
        "execution": {
          "iopub.status.busy": "2023-02-16T14:01:19.183287Z",
          "iopub.execute_input": "2023-02-16T14:01:19.184181Z",
          "iopub.status.idle": "2023-02-16T14:01:19.200639Z",
          "shell.execute_reply.started": "2023-02-16T14:01:19.18412Z",
          "shell.execute_reply": "2023-02-16T14:01:19.199166Z"
        },
        "trusted": true,
        "id": "3p_9oKw79wWq"
      },
      "execution_count": 52,
      "outputs": []
    },
    {
      "cell_type": "code",
      "source": [
        "pred_tests = kfold(df, df_test, plot=False, verbose=1, mode=\"cls\")"
      ],
      "metadata": {
        "papermill": {
          "duration": 0.265029,
          "end_time": "2022-02-25T19:24:57.55667",
          "exception": false,
          "start_time": "2022-02-25T19:24:57.291641",
          "status": "completed"
        },
        "tags": [],
        "execution": {
          "iopub.status.busy": "2023-02-16T14:01:19.342707Z",
          "iopub.execute_input": "2023-02-16T14:01:19.343189Z",
          "iopub.status.idle": "2023-02-16T14:01:19.949853Z",
          "shell.execute_reply.started": "2023-02-16T14:01:19.343137Z",
          "shell.execute_reply": "2023-02-16T14:01:19.948108Z"
        },
        "trusted": true,
        "colab": {
          "base_uri": "https://localhost:8080/"
        },
        "id": "etTug1p09wWq",
        "outputId": "62bf9d3b-0ffe-49c8-c6d0-3934cfc5cbf9"
      },
      "execution_count": 53,
      "outputs": [
        {
          "output_type": "stream",
          "name": "stdout",
          "text": [
            "\n",
            "Validating on season 2017\n",
            "\t -> Scored 0.164\n",
            "\n",
            "Validating on season 2018\n",
            "\t -> Scored 0.188\n",
            "\n",
            "Validating on season 2019\n",
            "\t -> Scored 0.154\n",
            "\n",
            "Validating on season 2021\n",
            "\t -> Scored 0.190\n",
            "\n",
            "Validating on season 2022\n",
            "\t -> Scored 0.197\n",
            "\n",
            " Local CV is 0.179\n"
          ]
        }
      ]
    },
    {
      "cell_type": "markdown",
      "source": [
        "## Submission"
      ],
      "metadata": {
        "papermill": {
          "duration": 0.082726,
          "end_time": "2022-02-25T19:25:00.06052",
          "exception": false,
          "start_time": "2022-02-25T19:24:59.977794",
          "status": "completed"
        },
        "tags": [],
        "id": "3Jq5AluF9wWr"
      }
    },
    {
      "cell_type": "code",
      "source": [
        "pred_test = np.mean(pred_tests, 0)\n",
        "df_test['pred'] = pred_test\n",
        "\n",
        "_ = sns.displot(pred_test)"
      ],
      "metadata": {
        "papermill": {
          "duration": 0.404691,
          "end_time": "2022-02-25T19:24:58.095455",
          "exception": false,
          "start_time": "2022-02-25T19:24:57.690764",
          "status": "completed"
        },
        "tags": [],
        "execution": {
          "iopub.status.busy": "2023-02-16T14:01:21.798887Z",
          "iopub.execute_input": "2023-02-16T14:01:21.799378Z",
          "iopub.status.idle": "2023-02-16T14:01:22.6544Z",
          "shell.execute_reply.started": "2023-02-16T14:01:21.799336Z",
          "shell.execute_reply": "2023-02-16T14:01:22.653112Z"
        },
        "trusted": true,
        "colab": {
          "base_uri": "https://localhost:8080/",
          "height": 369
        },
        "id": "Zvu016Iq9wWr",
        "outputId": "afff61aa-5d4e-4629-ffef-cbb814612a3b"
      },
      "execution_count": 54,
      "outputs": [
        {
          "output_type": "display_data",
          "data": {
            "text/plain": [
              "<Figure size 360x360 with 1 Axes>"
            ],
            "image/png": "[encoded data removed]"
          },
          "metadata": {
            "needs_background": "light"
          }
        }
      ]
    },
    {
      "cell_type": "code",
      "source": [
        "final_sub = df_test[['ID', 'pred']].copy()\n",
        "final_sub.to_csv('submission.csv', index=False)"
      ],
      "metadata": {
        "papermill": {
          "duration": 0.138639,
          "end_time": "2022-02-25T19:25:00.284971",
          "exception": false,
          "start_time": "2022-02-25T19:25:00.146332",
          "status": "completed"
        },
        "tags": [],
        "execution": {
          "iopub.status.busy": "2023-02-16T14:01:24.63954Z",
          "iopub.execute_input": "2023-02-16T14:01:24.640013Z",
          "iopub.status.idle": "2023-02-16T14:01:24.97537Z",
          "shell.execute_reply.started": "2023-02-16T14:01:24.639976Z",
          "shell.execute_reply": "2023-02-16T14:01:24.973906Z"
        },
        "trusted": true,
        "id": "n5djmG4U9wWr"
      },
      "execution_count": 55,
      "outputs": []
    },
    {
      "cell_type": "code",
      "source": [
        "final_sub.head()"
      ],
      "metadata": {
        "papermill": {
          "duration": 0.09609,
          "end_time": "2022-02-25T19:25:00.467135",
          "exception": false,
          "start_time": "2022-02-25T19:25:00.371045",
          "status": "completed"
        },
        "tags": [],
        "execution": {
          "iopub.status.busy": "2023-02-16T14:01:24.977252Z",
          "iopub.execute_input": "2023-02-16T14:01:24.977633Z",
          "iopub.status.idle": "2023-02-16T14:01:24.990575Z",
          "shell.execute_reply.started": "2023-02-16T14:01:24.97759Z",
          "shell.execute_reply": "2023-02-16T14:01:24.989247Z"
        },
        "trusted": true,
        "colab": {
          "base_uri": "https://localhost:8080/",
          "height": 206
        },
        "id": "N9bPSoi29wWr",
        "outputId": "067932a1-5349-4cc2-908f-4c223754dbc9"
      },
      "execution_count": 56,
      "outputs": [
        {
          "output_type": "execute_result",
          "data": {
            "text/plain": [
              "               ID      pred\n",
              "0  2023_1101_1102  0.477936\n",
              "1  2023_1101_1103  0.449092\n",
              "2  2023_1101_1104  0.378438\n",
              "3  2023_1101_1105  0.497743\n",
              "4  2023_1101_1106  0.551261"
            ],
            "text/html": [
              "\n",
              "  <div id=\"df-ecd97c97-cb76-4a81-b09e-5a04da682db5\">\n",
              "    <div class=\"colab-df-container\">\n",
              "      <div>\n",
              "<style scoped>\n",
              "    .dataframe tbody tr th:only-of-type {\n",
              "        vertical-align: middle;\n",
              "    }\n",
              "\n",
              "    .dataframe tbody tr th {\n",
              "        vertical-align: top;\n",
              "    }\n",
              "\n",
              "    .dataframe thead th {\n",
              "        text-align: right;\n",
              "    }\n",
              "</style>\n",
              "<table border=\"1\" class=\"dataframe\">\n",
              "  <thead>\n",
              "    <tr style=\"text-align: right;\">\n",
              "      <th></th>\n",
              "      <th>ID</th>\n",
              "      <th>pred</th>\n",
              "    </tr>\n",
              "  </thead>\n",
              "  <tbody>\n",
              "    <tr>\n",
              "      <th>0</th>\n",
              "      <td>2023_1101_1102</td>\n",
              "      <td>0.477936</td>\n",
              "    </tr>\n",
              "    <tr>\n",
              "      <th>1</th>\n",
              "      <td>2023_1101_1103</td>\n",
              "      <td>0.449092</td>\n",
              "    </tr>\n",
              "    <tr>\n",
              "      <th>2</th>\n",
              "      <td>2023_1101_1104</td>\n",
              "      <td>0.378438</td>\n",
              "    </tr>\n",
              "    <tr>\n",
              "      <th>3</th>\n",
              "      <td>2023_1101_1105</td>\n",
              "      <td>0.497743</td>\n",
              "    </tr>\n",
              "    <tr>\n",
              "      <th>4</th>\n",
              "      <td>2023_1101_1106</td>\n",
              "      <td>0.551261</td>\n",
              "    </tr>\n",
              "  </tbody>\n",
              "</table>\n",
              "</div>\n",
              "      <button class=\"colab-df-convert\" onclick=\"convertToInteractive('df-ecd97c97-cb76-4a81-b09e-5a04da682db5')\"\n",
              "              title=\"Convert this dataframe to an interactive table.\"\n",
              "              style=\"display:none;\">\n",
              "        \n",
              "  <svg xmlns=\"http://www.w3.org/2000/svg\" height=\"24px\"viewBox=\"0 0 24 24\"\n",
              "       width=\"24px\">\n",
              "    <path d=\"M0 0h24v24H0V0z\" fill=\"none\"/>\n",
              "    <path d=\"M18.56 5.44l.94 2.06.94-2.06 2.06-.94-2.06-.94-.94-2.06-.94 2.06-2.06.94zm-11 1L8.5 8.5l.94-2.06 2.06-.94-2.06-.94L8.5 2.5l-.94 2.06-2.06.94zm10 10l.94 2.06.94-2.06 2.06-.94-2.06-.94-.94-2.06-.94 2.06-2.06.94z\"/><path d=\"M17.41 7.96l-1.37-1.37c-.4-.4-.92-.59-1.43-.59-.52 0-1.04.2-1.43.59L10.3 9.45l-7.72 7.72c-.78.78-.78 2.05 0 2.83L4 21.41c.39.39.9.59 1.41.59.51 0 1.02-.2 1.41-.59l7.78-7.78 2.81-2.81c.8-.78.8-2.07 0-2.86zM5.41 20L4 18.59l7.72-7.72 1.47 1.35L5.41 20z\"/>\n",
              "  </svg>\n",
              "      </button>\n",
              "      \n",
              "  <style>\n",
              "    .colab-df-container {\n",
              "      display:flex;\n",
              "      flex-wrap:wrap;\n",
              "      gap: 12px;\n",
              "    }\n",
              "\n",
              "    .colab-df-convert {\n",
              "      background-color: #E8F0FE;\n",
              "      border: none;\n",
              "      border-radius: 50%;\n",
              "      cursor: pointer;\n",
              "      display: none;\n",
              "      fill: #1967D2;\n",
              "      height: 32px;\n",
              "      padding: 0 0 0 0;\n",
              "      width: 32px;\n",
              "    }\n",
              "\n",
              "    .colab-df-convert:hover {\n",
              "      background-color: #E2EBFA;\n",
              "      box-shadow: 0px 1px 2px rgba(60, 64, 67, 0.3), 0px 1px 3px 1px rgba(60, 64, 67, 0.15);\n",
              "      fill: #174EA6;\n",
              "    }\n",
              "\n",
              "    [theme=dark] .colab-df-convert {\n",
              "      background-color: #3B4455;\n",
              "      fill: #D2E3FC;\n",
              "    }\n",
              "\n",
              "    [theme=dark] .colab-df-convert:hover {\n",
              "      background-color: #434B5C;\n",
              "      box-shadow: 0px 1px 3px 1px rgba(0, 0, 0, 0.15);\n",
              "      filter: drop-shadow(0px 1px 2px rgba(0, 0, 0, 0.3));\n",
              "      fill: #FFFFFF;\n",
              "    }\n",
              "  </style>\n",
              "\n",
              "      <script>\n",
              "        const buttonEl =\n",
              "          document.querySelector('#df-ecd97c97-cb76-4a81-b09e-5a04da682db5 button.colab-df-convert');\n",
              "        buttonEl.style.display =\n",
              "          google.colab.kernel.accessAllowed ? 'block' : 'none';\n",
              "\n",
              "        async function convertToInteractive(key) {\n",
              "          const element = document.querySelector('#df-ecd97c97-cb76-4a81-b09e-5a04da682db5');\n",
              "          const dataTable =\n",
              "            await google.colab.kernel.invokeFunction('convertToInteractive',\n",
              "                                                     [key], {});\n",
              "          if (!dataTable) return;\n",
              "\n",
              "          const docLinkHtml = 'Like what you see? Visit the ' +\n",
              "            '<a target=\"_blank\" href=https://colab.research.google.com/notebooks/data_table.ipynb>data table notebook</a>'\n",
              "            + ' to learn more about interactive tables.';\n",
              "          element.innerHTML = '';\n",
              "          dataTable['output_type'] = 'display_data';\n",
              "          await google.colab.output.renderOutput(dataTable, element);\n",
              "          const docLink = document.createElement('div');\n",
              "          docLink.innerHTML = docLinkHtml;\n",
              "          element.appendChild(docLink);\n",
              "        }\n",
              "      </script>\n",
              "    </div>\n",
              "  </div>\n",
              "  "
            ]
          },
          "metadata": {},
          "execution_count": 56
        }
      ]
    },
    {
      "cell_type": "markdown",
      "source": [
        "Done ! "
      ],
      "metadata": {
        "id": "ZOgzBi599wWt"
      }
    },
    {
      "cell_type": "code",
      "source": [
        "df_test"
      ],
      "metadata": {
        "colab": {
          "base_uri": "https://localhost:8080/",
          "height": 423
        },
        "id": "J5FIKXgJBI95",
        "outputId": "d37df317-42f8-4a53-a4d4-b81fbd894b9f"
      },
      "execution_count": 58,
      "outputs": [
        {
          "output_type": "execute_result",
          "data": {
            "text/plain": [
              "                    ID  Pred  Season  TeamIdA  TeamIdB  SeedA  SeedB  \\\n",
              "0       2023_1101_1102   0.5    2023     1101     1102      1      1   \n",
              "1       2023_1101_1103   0.5    2023     1101     1103      1      1   \n",
              "2       2023_1101_1104   0.5    2023     1101     1104      1      1   \n",
              "3       2023_1101_1105   0.5    2023     1101     1105      1      1   \n",
              "4       2023_1101_1106   0.5    2023     1101     1106      1      1   \n",
              "...                ...   ...     ...      ...      ...    ...    ...   \n",
              "130678  2023_3474_3476   0.5    2023     3474     3476      1      1   \n",
              "130679  2023_3474_3477   0.5    2023     3474     3477      1      1   \n",
              "130680  2023_3475_3476   0.5    2023     3475     3476      1      1   \n",
              "130681  2023_3475_3477   0.5    2023     3475     3477      1      1   \n",
              "130682  2023_3476_3477   0.5    2023     3476     3477      1      1   \n",
              "\n",
              "        WinRatioA    GapAvgA  WinRatioB    GapAvgB  SeedDiff  WinRatioDiff  \\\n",
              "0        0.409091  -2.863636   0.482759   0.241379         0     -0.073668   \n",
              "1        0.409091  -2.863636   0.653846   5.653846         0     -0.244755   \n",
              "2        0.409091  -2.863636   0.851852  15.111111         0     -0.442761   \n",
              "3        0.409091  -2.863636   0.360000  -3.560000         0      0.049091   \n",
              "4        0.409091  -2.863636   0.259259  -9.703704         0      0.149832   \n",
              "...           ...        ...        ...        ...       ...           ...   \n",
              "130678   0.217391 -13.347826   0.269231  -6.923077         0     -0.051839   \n",
              "130679   0.217391 -13.347826   0.423077  -5.000000         0     -0.205686   \n",
              "130680   0.333333  -3.125000   0.269231  -6.923077         0      0.064103   \n",
              "130681   0.333333  -3.125000   0.423077  -5.000000         0     -0.089744   \n",
              "130682   0.269231  -6.923077   0.423077  -5.000000         0     -0.153846   \n",
              "\n",
              "        GapAvgDiff      pred  \n",
              "0        -3.105016  0.477936  \n",
              "1        -8.517483  0.449092  \n",
              "2       -17.974747  0.378438  \n",
              "3         0.696364  0.497743  \n",
              "4         6.840067  0.551261  \n",
              "...            ...       ...  \n",
              "130678   -6.424749  0.432406  \n",
              "130679   -8.347826  0.442591  \n",
              "130680    3.798077  0.532760  \n",
              "130681    1.875000  0.543008  \n",
              "130682   -1.923077  0.510337  \n",
              "\n",
              "[130683 rows x 15 columns]"
            ],
            "text/html": [
              "\n",
              "  <div id=\"df-5fd69b25-b888-4736-b46c-545769aa0aa9\">\n",
              "    <div class=\"colab-df-container\">\n",
              "      <div>\n",
              "<style scoped>\n",
              "    .dataframe tbody tr th:only-of-type {\n",
              "        vertical-align: middle;\n",
              "    }\n",
              "\n",
              "    .dataframe tbody tr th {\n",
              "        vertical-align: top;\n",
              "    }\n",
              "\n",
              "    .dataframe thead th {\n",
              "        text-align: right;\n",
              "    }\n",
              "</style>\n",
              "<table border=\"1\" class=\"dataframe\">\n",
              "  <thead>\n",
              "    <tr style=\"text-align: right;\">\n",
              "      <th></th>\n",
              "      <th>ID</th>\n",
              "      <th>Pred</th>\n",
              "      <th>Season</th>\n",
              "      <th>TeamIdA</th>\n",
              "      <th>TeamIdB</th>\n",
              "      <th>SeedA</th>\n",
              "      <th>SeedB</th>\n",
              "      <th>WinRatioA</th>\n",
              "      <th>GapAvgA</th>\n",
              "      <th>WinRatioB</th>\n",
              "      <th>GapAvgB</th>\n",
              "      <th>SeedDiff</th>\n",
              "      <th>WinRatioDiff</th>\n",
              "      <th>GapAvgDiff</th>\n",
              "      <th>pred</th>\n",
              "    </tr>\n",
              "  </thead>\n",
              "  <tbody>\n",
              "    <tr>\n",
              "      <th>0</th>\n",
              "      <td>2023_1101_1102</td>\n",
              "      <td>0.5</td>\n",
              "      <td>2023</td>\n",
              "      <td>1101</td>\n",
              "      <td>1102</td>\n",
              "      <td>1</td>\n",
              "      <td>1</td>\n",
              "      <td>0.409091</td>\n",
              "      <td>-2.863636</td>\n",
              "      <td>0.482759</td>\n",
              "      <td>0.241379</td>\n",
              "      <td>0</td>\n",
              "      <td>-0.073668</td>\n",
              "      <td>-3.105016</td>\n",
              "      <td>0.477936</td>\n",
              "    </tr>\n",
              "    <tr>\n",
              "      <th>1</th>\n",
              "      <td>2023_1101_1103</td>\n",
              "      <td>0.5</td>\n",
              "      <td>2023</td>\n",
              "      <td>1101</td>\n",
              "      <td>1103</td>\n",
              "      <td>1</td>\n",
              "      <td>1</td>\n",
              "      <td>0.409091</td>\n",
              "      <td>-2.863636</td>\n",
              "      <td>0.653846</td>\n",
              "      <td>5.653846</td>\n",
              "      <td>0</td>\n",
              "      <td>-0.244755</td>\n",
              "      <td>-8.517483</td>\n",
              "      <td>0.449092</td>\n",
              "    </tr>\n",
              "    <tr>\n",
              "      <th>2</th>\n",
              "      <td>2023_1101_1104</td>\n",
              "      <td>0.5</td>\n",
              "      <td>2023</td>\n",
              "      <td>1101</td>\n",
              "      <td>1104</td>\n",
              "      <td>1</td>\n",
              "      <td>1</td>\n",
              "      <td>0.409091</td>\n",
              "      <td>-2.863636</td>\n",
              "      <td>0.851852</td>\n",
              "      <td>15.111111</td>\n",
              "      <td>0</td>\n",
              "      <td>-0.442761</td>\n",
              "      <td>-17.974747</td>\n",
              "      <td>0.378438</td>\n",
              "    </tr>\n",
              "    <tr>\n",
              "      <th>3</th>\n",
              "      <td>2023_1101_1105</td>\n",
              "      <td>0.5</td>\n",
              "      <td>2023</td>\n",
              "      <td>1101</td>\n",
              "      <td>1105</td>\n",
              "      <td>1</td>\n",
              "      <td>1</td>\n",
              "      <td>0.409091</td>\n",
              "      <td>-2.863636</td>\n",
              "      <td>0.360000</td>\n",
              "      <td>-3.560000</td>\n",
              "      <td>0</td>\n",
              "      <td>0.049091</td>\n",
              "      <td>0.696364</td>\n",
              "      <td>0.497743</td>\n",
              "    </tr>\n",
              "    <tr>\n",
              "      <th>4</th>\n",
              "      <td>2023_1101_1106</td>\n",
              "      <td>0.5</td>\n",
              "      <td>2023</td>\n",
              "      <td>1101</td>\n",
              "      <td>1106</td>\n",
              "      <td>1</td>\n",
              "      <td>1</td>\n",
              "      <td>0.409091</td>\n",
              "      <td>-2.863636</td>\n",
              "      <td>0.259259</td>\n",
              "      <td>-9.703704</td>\n",
              "      <td>0</td>\n",
              "      <td>0.149832</td>\n",
              "      <td>6.840067</td>\n",
              "      <td>0.551261</td>\n",
              "    </tr>\n",
              "    <tr>\n",
              "      <th>...</th>\n",
              "      <td>...</td>\n",
              "      <td>...</td>\n",
              "      <td>...</td>\n",
              "      <td>...</td>\n",
              "      <td>...</td>\n",
              "      <td>...</td>\n",
              "      <td>...</td>\n",
              "      <td>...</td>\n",
              "      <td>...</td>\n",
              "      <td>...</td>\n",
              "      <td>...</td>\n",
              "      <td>...</td>\n",
              "      <td>...</td>\n",
              "      <td>...</td>\n",
              "      <td>...</td>\n",
              "    </tr>\n",
              "    <tr>\n",
              "      <th>130678</th>\n",
              "      <td>2023_3474_3476</td>\n",
              "      <td>0.5</td>\n",
              "      <td>2023</td>\n",
              "      <td>3474</td>\n",
              "      <td>3476</td>\n",
              "      <td>1</td>\n",
              "      <td>1</td>\n",
              "      <td>0.217391</td>\n",
              "      <td>-13.347826</td>\n",
              "      <td>0.269231</td>\n",
              "      <td>-6.923077</td>\n",
              "      <td>0</td>\n",
              "      <td>-0.051839</td>\n",
              "      <td>-6.424749</td>\n",
              "      <td>0.432406</td>\n",
              "    </tr>\n",
              "    <tr>\n",
              "      <th>130679</th>\n",
              "      <td>2023_3474_3477</td>\n",
              "      <td>0.5</td>\n",
              "      <td>2023</td>\n",
              "      <td>3474</td>\n",
              "      <td>3477</td>\n",
              "      <td>1</td>\n",
              "      <td>1</td>\n",
              "      <td>0.217391</td>\n",
              "      <td>-13.347826</td>\n",
              "      <td>0.423077</td>\n",
              "      <td>-5.000000</td>\n",
              "      <td>0</td>\n",
              "      <td>-0.205686</td>\n",
              "      <td>-8.347826</td>\n",
              "      <td>0.442591</td>\n",
              "    </tr>\n",
              "    <tr>\n",
              "      <th>130680</th>\n",
              "      <td>2023_3475_3476</td>\n",
              "      <td>0.5</td>\n",
              "      <td>2023</td>\n",
              "      <td>3475</td>\n",
              "      <td>3476</td>\n",
              "      <td>1</td>\n",
              "      <td>1</td>\n",
              "      <td>0.333333</td>\n",
              "      <td>-3.125000</td>\n",
              "      <td>0.269231</td>\n",
              "      <td>-6.923077</td>\n",
              "      <td>0</td>\n",
              "      <td>0.064103</td>\n",
              "      <td>3.798077</td>\n",
              "      <td>0.532760</td>\n",
              "    </tr>\n",
              "    <tr>\n",
              "      <th>130681</th>\n",
              "      <td>2023_3475_3477</td>\n",
              "      <td>0.5</td>\n",
              "      <td>2023</td>\n",
              "      <td>3475</td>\n",
              "      <td>3477</td>\n",
              "      <td>1</td>\n",
              "      <td>1</td>\n",
              "      <td>0.333333</td>\n",
              "      <td>-3.125000</td>\n",
              "      <td>0.423077</td>\n",
              "      <td>-5.000000</td>\n",
              "      <td>0</td>\n",
              "      <td>-0.089744</td>\n",
              "      <td>1.875000</td>\n",
              "      <td>0.543008</td>\n",
              "    </tr>\n",
              "    <tr>\n",
              "      <th>130682</th>\n",
              "      <td>2023_3476_3477</td>\n",
              "      <td>0.5</td>\n",
              "      <td>2023</td>\n",
              "      <td>3476</td>\n",
              "      <td>3477</td>\n",
              "      <td>1</td>\n",
              "      <td>1</td>\n",
              "      <td>0.269231</td>\n",
              "      <td>-6.923077</td>\n",
              "      <td>0.423077</td>\n",
              "      <td>-5.000000</td>\n",
              "      <td>0</td>\n",
              "      <td>-0.153846</td>\n",
              "      <td>-1.923077</td>\n",
              "      <td>0.510337</td>\n",
              "    </tr>\n",
              "  </tbody>\n",
              "</table>\n",
              "<p>130683 rows × 15 columns</p>\n",
              "</div>\n",
              "      <button class=\"colab-df-convert\" onclick=\"convertToInteractive('df-5fd69b25-b888-4736-b46c-545769aa0aa9')\"\n",
              "              title=\"Convert this dataframe to an interactive table.\"\n",
              "              style=\"display:none;\">\n",
              "        \n",
              "  <svg xmlns=\"http://www.w3.org/2000/svg\" height=\"24px\"viewBox=\"0 0 24 24\"\n",
              "       width=\"24px\">\n",
              "    <path d=\"M0 0h24v24H0V0z\" fill=\"none\"/>\n",
              "    <path d=\"M18.56 5.44l.94 2.06.94-2.06 2.06-.94-2.06-.94-.94-2.06-.94 2.06-2.06.94zm-11 1L8.5 8.5l.94-2.06 2.06-.94-2.06-.94L8.5 2.5l-.94 2.06-2.06.94zm10 10l.94 2.06.94-2.06 2.06-.94-2.06-.94-.94-2.06-.94 2.06-2.06.94z\"/><path d=\"M17.41 7.96l-1.37-1.37c-.4-.4-.92-.59-1.43-.59-.52 0-1.04.2-1.43.59L10.3 9.45l-7.72 7.72c-.78.78-.78 2.05 0 2.83L4 21.41c.39.39.9.59 1.41.59.51 0 1.02-.2 1.41-.59l7.78-7.78 2.81-2.81c.8-.78.8-2.07 0-2.86zM5.41 20L4 18.59l7.72-7.72 1.47 1.35L5.41 20z\"/>\n",
              "  </svg>\n",
              "      </button>\n",
              "      \n",
              "  <style>\n",
              "    .colab-df-container {\n",
              "      display:flex;\n",
              "      flex-wrap:wrap;\n",
              "      gap: 12px;\n",
              "    }\n",
              "\n",
              "    .colab-df-convert {\n",
              "      background-color: #E8F0FE;\n",
              "      border: none;\n",
              "      border-radius: 50%;\n",
              "      cursor: pointer;\n",
              "      display: none;\n",
              "      fill: #1967D2;\n",
              "      height: 32px;\n",
              "      padding: 0 0 0 0;\n",
              "      width: 32px;\n",
              "    }\n",
              "\n",
              "    .colab-df-convert:hover {\n",
              "      background-color: #E2EBFA;\n",
              "      box-shadow: 0px 1px 2px rgba(60, 64, 67, 0.3), 0px 1px 3px 1px rgba(60, 64, 67, 0.15);\n",
              "      fill: #174EA6;\n",
              "    }\n",
              "\n",
              "    [theme=dark] .colab-df-convert {\n",
              "      background-color: #3B4455;\n",
              "      fill: #D2E3FC;\n",
              "    }\n",
              "\n",
              "    [theme=dark] .colab-df-convert:hover {\n",
              "      background-color: #434B5C;\n",
              "      box-shadow: 0px 1px 3px 1px rgba(0, 0, 0, 0.15);\n",
              "      filter: drop-shadow(0px 1px 2px rgba(0, 0, 0, 0.3));\n",
              "      fill: #FFFFFF;\n",
              "    }\n",
              "  </style>\n",
              "\n",
              "      <script>\n",
              "        const buttonEl =\n",
              "          document.querySelector('#df-5fd69b25-b888-4736-b46c-545769aa0aa9 button.colab-df-convert');\n",
              "        buttonEl.style.display =\n",
              "          google.colab.kernel.accessAllowed ? 'block' : 'none';\n",
              "\n",
              "        async function convertToInteractive(key) {\n",
              "          const element = document.querySelector('#df-5fd69b25-b888-4736-b46c-545769aa0aa9');\n",
              "          const dataTable =\n",
              "            await google.colab.kernel.invokeFunction('convertToInteractive',\n",
              "                                                     [key], {});\n",
              "          if (!dataTable) return;\n",
              "\n",
              "          const docLinkHtml = 'Like what you see? Visit the ' +\n",
              "            '<a target=\"_blank\" href=https://colab.research.google.com/notebooks/data_table.ipynb>data table notebook</a>'\n",
              "            + ' to learn more about interactive tables.';\n",
              "          element.innerHTML = '';\n",
              "          dataTable['output_type'] = 'display_data';\n",
              "          await google.colab.output.renderOutput(dataTable, element);\n",
              "          const docLink = document.createElement('div');\n",
              "          docLink.innerHTML = docLinkHtml;\n",
              "          element.appendChild(docLink);\n",
              "        }\n",
              "      </script>\n",
              "    </div>\n",
              "  </div>\n",
              "  "
            ]
          },
          "metadata": {},
          "execution_count": 58
        }
      ]
    },
    {
      "cell_type": "code",
      "source": [
        "final_sub"
      ],
      "metadata": {
        "colab": {
          "base_uri": "https://localhost:8080/",
          "height": 423
        },
        "id": "TOjzipz4BDh5",
        "outputId": "8c66d085-1a6f-457c-fc07-21c17a5df97e"
      },
      "execution_count": 57,
      "outputs": [
        {
          "output_type": "execute_result",
          "data": {
            "text/plain": [
              "                    ID      pred\n",
              "0       2023_1101_1102  0.477936\n",
              "1       2023_1101_1103  0.449092\n",
              "2       2023_1101_1104  0.378438\n",
              "3       2023_1101_1105  0.497743\n",
              "4       2023_1101_1106  0.551261\n",
              "...                ...       ...\n",
              "130678  2023_3474_3476  0.432406\n",
              "130679  2023_3474_3477  0.442591\n",
              "130680  2023_3475_3476  0.532760\n",
              "130681  2023_3475_3477  0.543008\n",
              "130682  2023_3476_3477  0.510337\n",
              "\n",
              "[130683 rows x 2 columns]"
            ],
            "text/html": [
              "\n",
              "  <div id=\"df-f6d90c33-6826-42b0-8a46-2f11a144b9e5\">\n",
              "    <div class=\"colab-df-container\">\n",
              "      <div>\n",
              "<style scoped>\n",
              "    .dataframe tbody tr th:only-of-type {\n",
              "        vertical-align: middle;\n",
              "    }\n",
              "\n",
              "    .dataframe tbody tr th {\n",
              "        vertical-align: top;\n",
              "    }\n",
              "\n",
              "    .dataframe thead th {\n",
              "        text-align: right;\n",
              "    }\n",
              "</style>\n",
              "<table border=\"1\" class=\"dataframe\">\n",
              "  <thead>\n",
              "    <tr style=\"text-align: right;\">\n",
              "      <th></th>\n",
              "      <th>ID</th>\n",
              "      <th>pred</th>\n",
              "    </tr>\n",
              "  </thead>\n",
              "  <tbody>\n",
              "    <tr>\n",
              "      <th>0</th>\n",
              "      <td>2023_1101_1102</td>\n",
              "      <td>0.477936</td>\n",
              "    </tr>\n",
              "    <tr>\n",
              "      <th>1</th>\n",
              "      <td>2023_1101_1103</td>\n",
              "      <td>0.449092</td>\n",
              "    </tr>\n",
              "    <tr>\n",
              "      <th>2</th>\n",
              "      <td>2023_1101_1104</td>\n",
              "      <td>0.378438</td>\n",
              "    </tr>\n",
              "    <tr>\n",
              "      <th>3</th>\n",
              "      <td>2023_1101_1105</td>\n",
              "      <td>0.497743</td>\n",
              "    </tr>\n",
              "    <tr>\n",
              "      <th>4</th>\n",
              "      <td>2023_1101_1106</td>\n",
              "      <td>0.551261</td>\n",
              "    </tr>\n",
              "    <tr>\n",
              "      <th>...</th>\n",
              "      <td>...</td>\n",
              "      <td>...</td>\n",
              "    </tr>\n",
              "    <tr>\n",
              "      <th>130678</th>\n",
              "      <td>2023_3474_3476</td>\n",
              "      <td>0.432406</td>\n",
              "    </tr>\n",
              "    <tr>\n",
              "      <th>130679</th>\n",
              "      <td>2023_3474_3477</td>\n",
              "      <td>0.442591</td>\n",
              "    </tr>\n",
              "    <tr>\n",
              "      <th>130680</th>\n",
              "      <td>2023_3475_3476</td>\n",
              "      <td>0.532760</td>\n",
              "    </tr>\n",
              "    <tr>\n",
              "      <th>130681</th>\n",
              "      <td>2023_3475_3477</td>\n",
              "      <td>0.543008</td>\n",
              "    </tr>\n",
              "    <tr>\n",
              "      <th>130682</th>\n",
              "      <td>2023_3476_3477</td>\n",
              "      <td>0.510337</td>\n",
              "    </tr>\n",
              "  </tbody>\n",
              "</table>\n",
              "<p>130683 rows × 2 columns</p>\n",
              "</div>\n",
              "      <button class=\"colab-df-convert\" onclick=\"convertToInteractive('df-f6d90c33-6826-42b0-8a46-2f11a144b9e5')\"\n",
              "              title=\"Convert this dataframe to an interactive table.\"\n",
              "              style=\"display:none;\">\n",
              "        \n",
              "  <svg xmlns=\"http://www.w3.org/2000/svg\" height=\"24px\"viewBox=\"0 0 24 24\"\n",
              "       width=\"24px\">\n",
              "    <path d=\"M0 0h24v24H0V0z\" fill=\"none\"/>\n",
              "    <path d=\"M18.56 5.44l.94 2.06.94-2.06 2.06-.94-2.06-.94-.94-2.06-.94 2.06-2.06.94zm-11 1L8.5 8.5l.94-2.06 2.06-.94-2.06-.94L8.5 2.5l-.94 2.06-2.06.94zm10 10l.94 2.06.94-2.06 2.06-.94-2.06-.94-.94-2.06-.94 2.06-2.06.94z\"/><path d=\"M17.41 7.96l-1.37-1.37c-.4-.4-.92-.59-1.43-.59-.52 0-1.04.2-1.43.59L10.3 9.45l-7.72 7.72c-.78.78-.78 2.05 0 2.83L4 21.41c.39.39.9.59 1.41.59.51 0 1.02-.2 1.41-.59l7.78-7.78 2.81-2.81c.8-.78.8-2.07 0-2.86zM5.41 20L4 18.59l7.72-7.72 1.47 1.35L5.41 20z\"/>\n",
              "  </svg>\n",
              "      </button>\n",
              "      \n",
              "  <style>\n",
              "    .colab-df-container {\n",
              "      display:flex;\n",
              "      flex-wrap:wrap;\n",
              "      gap: 12px;\n",
              "    }\n",
              "\n",
              "    .colab-df-convert {\n",
              "      background-color: #E8F0FE;\n",
              "      border: none;\n",
              "      border-radius: 50%;\n",
              "      cursor: pointer;\n",
              "      display: none;\n",
              "      fill: #1967D2;\n",
              "      height: 32px;\n",
              "      padding: 0 0 0 0;\n",
              "      width: 32px;\n",
              "    }\n",
              "\n",
              "    .colab-df-convert:hover {\n",
              "      background-color: #E2EBFA;\n",
              "      box-shadow: 0px 1px 2px rgba(60, 64, 67, 0.3), 0px 1px 3px 1px rgba(60, 64, 67, 0.15);\n",
              "      fill: #174EA6;\n",
              "    }\n",
              "\n",
              "    [theme=dark] .colab-df-convert {\n",
              "      background-color: #3B4455;\n",
              "      fill: #D2E3FC;\n",
              "    }\n",
              "\n",
              "    [theme=dark] .colab-df-convert:hover {\n",
              "      background-color: #434B5C;\n",
              "      box-shadow: 0px 1px 3px 1px rgba(0, 0, 0, 0.15);\n",
              "      filter: drop-shadow(0px 1px 2px rgba(0, 0, 0, 0.3));\n",
              "      fill: #FFFFFF;\n",
              "    }\n",
              "  </style>\n",
              "\n",
              "      <script>\n",
              "        const buttonEl =\n",
              "          document.querySelector('#df-f6d90c33-6826-42b0-8a46-2f11a144b9e5 button.colab-df-convert');\n",
              "        buttonEl.style.display =\n",
              "          google.colab.kernel.accessAllowed ? 'block' : 'none';\n",
              "\n",
              "        async function convertToInteractive(key) {\n",
              "          const element = document.querySelector('#df-f6d90c33-6826-42b0-8a46-2f11a144b9e5');\n",
              "          const dataTable =\n",
              "            await google.colab.kernel.invokeFunction('convertToInteractive',\n",
              "                                                     [key], {});\n",
              "          if (!dataTable) return;\n",
              "\n",
              "          const docLinkHtml = 'Like what you see? Visit the ' +\n",
              "            '<a target=\"_blank\" href=https://colab.research.google.com/notebooks/data_table.ipynb>data table notebook</a>'\n",
              "            + ' to learn more about interactive tables.';\n",
              "          element.innerHTML = '';\n",
              "          dataTable['output_type'] = 'display_data';\n",
              "          await google.colab.output.renderOutput(dataTable, element);\n",
              "          const docLink = document.createElement('div');\n",
              "          docLink.innerHTML = docLinkHtml;\n",
              "          element.appendChild(docLink);\n",
              "        }\n",
              "      </script>\n",
              "    </div>\n",
              "  </div>\n",
              "  "
            ]
          },
          "metadata": {},
          "execution_count": 57
        }
      ]
    },
    {
      "cell_type": "code",
      "source": [],
      "metadata": {
        "id": "Gp9KA1ufBHV1"
      },
      "execution_count": null,
      "outputs": []
    }
  ]
}